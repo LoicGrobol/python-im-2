{
 "cells": [
  {
   "cell_type": "markdown",
   "metadata": {
    "slideshow": {
     "slide_type": "slide"
    }
   },
   "source": [
    "# langages de script – Python\n",
    "\n",
    "## Introduction et remise à niveau\n",
    "\n",
    "### M2 Ingénierie Multilingue – INaLCO\n",
    "\n",
    "clement.plancq@ens.fr"
   ]
  },
  {
   "cell_type": "markdown",
   "metadata": {
    "slideshow": {
     "slide_type": "slide"
    }
   },
   "source": [
    "# Vue générale\n",
    "\n",
    "## Les cours\n",
    "\n",
    "* Le mercredi de 9h à 12h, si la salle vient à changer, cela sera précisé\n",
    "* une page d'accueil vous donnera accès aux cours déjà effectués, aux corrections d'exercices, etc: https://loicgrobol.github.io/python-im/m2-2019/\n",
    "* la page sera mise à jour régulièrement, pensez à y jeter un œil régulièrement !\n",
    "\n",
    "## L'évaluation\n",
    "\n",
    "* Un examen qui vaudra pour 50% de la note finale\n",
    "* Un projet qui vaudra pour 50% de la note finale"
   ]
  },
  {
   "cell_type": "markdown",
   "metadata": {
    "slideshow": {
     "slide_type": "slide"
    }
   },
   "source": [
    "# L'examen\n",
    "\n",
    "Un examen de 2h sur ordinateur où il faudra rendre un **script python** (extension `.py`) qui renvoie les résultats attendus à chaque question\n",
    "\n",
    "# Le projet\n",
    "\n",
    "Vous allez construire une [bibliothèque logicielle](https://fr.wikipedia.org/wiki/Biblioth%C3%A8que_logicielle) (ou librairie). Le sujet sera à votre choix."
   ]
  },
  {
   "cell_type": "markdown",
   "metadata": {
    "slideshow": {
     "slide_type": "slide"
    }
   },
   "source": [
    "# Rappel\n",
    "\n",
    "* Nous travaillerons avec Python3 (`3.7` de préférence)\n",
    "* Pour le travail avec la console vous utiliserez `python3` (ou `python` si vous avez une installation récente) ou `ipython`  \n",
    "<small>Tapez ``python3`` ou ``python3 -m IPython`` dans un terminal pour accéder à la console</small>\n",
    "* Choisissez l'éditeur de texte que vous préférez (emacs, vi, atom, visual studio, sublime text, …)\n",
    "* Vos scripts devront être encodés en utf-8, indiquez-le dans vos scripts avec le commentaire suivant en première ligne :  \n",
    "`# -*- coding: utf-8 -*-` ou `# coding=utf-8`\n",
    "* pensez à aller sur la doc en ligne : https://docs.python.org/3/"
   ]
  },
  {
   "cell_type": "markdown",
   "metadata": {
    "slideshow": {
     "slide_type": "subslide"
    }
   },
   "source": [
    "# Rappel (2)\n",
    "\n",
    "Pour exécuter vos scripts, deux options :  \n",
    "\n",
    "`> python3 mon_script.py`\n",
    "\n",
    "ou <small>(mais pourquoi faire compliqué ?)</small>\n",
    "\n",
    "`> chmod u+x`  \n",
    "`> ./mon_script.py` en ajoutant ce shebang en première ligne :  \n",
    "`#!/usr/bin/env python3`\n"
   ]
  },
  {
   "cell_type": "markdown",
   "metadata": {
    "slideshow": {
     "slide_type": "slide"
    }
   },
   "source": [
    "# À vos marques, prêts, ...\n",
    "\n",
    "* avant d'entrer dans le vif du sujet, nous allons passer en revue les notions vues l'année dernière."
   ]
  },
  {
   "cell_type": "markdown",
   "metadata": {
    "slideshow": {
     "slide_type": "slide"
    }
   },
   "source": [
    "# Opérateurs mathématiques\n",
    "\n",
    "`+` addition (`+` est aussi l'opérateur de concaténation de chaînes de caractères)  \n",
    "`-` soustraction  \n",
    "`*` multiplication  \n",
    "`/` division  \n",
    "`//` la division entière  \n",
    "`%` modulo (reste de la division)  \n",
    "`**` puissance  \n",
    "\n",
    "* L'ordre des opérations est l'ordre classique en mathématiques (puissance passe avant les opérations).\n",
    "* vous pouvez utiliser des parenthèses pour définir des priorités."
   ]
  },
  {
   "cell_type": "markdown",
   "metadata": {
    "slideshow": {
     "slide_type": "subslide"
    }
   },
   "source": [
    "### Opérateurs de comparaison\n",
    "`<`  inférieur  / `<=` inférieur ou égal  \n",
    "`>`  supérieur  / `>=` supérieur ou égal  \n",
    "`==` égal  / `!=` non égal  \n",
    "`is` identité (pour les objets surtout)  / `is not` non identité  "
   ]
  },
  {
   "cell_type": "markdown",
   "metadata": {
    "slideshow": {
     "slide_type": "slide"
    }
   },
   "source": [
    "# Les types\n",
    "\n",
    "* Python est un langage à typage *dynamique* fort : le type d'une variable est déterminé par l'interpréteur.\n",
    "* Python est un langage à typage dynamique *fort* : pas de conversion implicite, certaines actions sont interdites."
   ]
  },
  {
   "cell_type": "code",
   "execution_count": null,
   "metadata": {
    "slideshow": {
     "slide_type": "-"
    }
   },
   "outputs": [],
   "source": [
    "\"Hello\" + 1"
   ]
  },
  {
   "cell_type": "markdown",
   "metadata": {
    "slideshow": {
     "slide_type": "subslide"
    }
   },
   "source": [
    "* La fonction `type()` retourne le type de la variable donnée en argument."
   ]
  },
  {
   "cell_type": "code",
   "execution_count": null,
   "metadata": {
    "slideshow": {
     "slide_type": "-"
    }
   },
   "outputs": [],
   "source": [
    "type(\"Hello\")"
   ]
  },
  {
   "cell_type": "markdown",
   "metadata": {
    "slideshow": {
     "slide_type": "-"
    }
   },
   "source": [
    "* `str()`, `int()`, `float()` convertit l'argument dans le type désiré.\n",
    "* `bool()` retourne `True` si l'argument est vrai, `False` sinon (ce qui est rarement utile)"
   ]
  },
  {
   "cell_type": "code",
   "execution_count": null,
   "metadata": {
    "slideshow": {
     "slide_type": "-"
    }
   },
   "outputs": [],
   "source": [
    "int(3.14159265359)"
   ]
  },
  {
   "cell_type": "code",
   "execution_count": null,
   "metadata": {
    "slideshow": {
     "slide_type": "-"
    }
   },
   "outputs": [],
   "source": [
    "\"Hello\" + str(1)"
   ]
  },
  {
   "cell_type": "markdown",
   "metadata": {
    "slideshow": {
     "slide_type": "slide"
    }
   },
   "source": [
    "# Les variables\n",
    "\n",
    "* L'affectation des variables se fait à l'aide du symbole `=`  \n",
    "* Si la variable est placée à droite du symbole `=`, sa *valeur* est affectée à la variable placée à gauche.\n",
    "* Les noms de variable sont composés de car. alphabétiques (min ou maj), des chiffres et de l'underscore. C'est tout.\n",
    "* Les noms de variable sont choisis par le programmeur, ils doivent être le plus clair possible. Il est conseillé de suivre la [PEP 8](https://www.python.org/dev/peps/pep-0008/)."
   ]
  },
  {
   "cell_type": "code",
   "execution_count": null,
   "metadata": {
    "slideshow": {
     "slide_type": "-"
    }
   },
   "outputs": [],
   "source": [
    "var = 3 + 2\n",
    "print(var)\n",
    "\n",
    "another_var = var\n",
    "print(another_var)"
   ]
  },
  {
   "cell_type": "code",
   "execution_count": null,
   "metadata": {
    "slideshow": {
     "slide_type": "-"
    }
   },
   "outputs": [],
   "source": [
    "je-ne-suis-pas-une-variable = 2"
   ]
  },
  {
   "cell_type": "code",
   "execution_count": null,
   "metadata": {},
   "outputs": [],
   "source": [
    "3_moi_non_plus = 2 + 3"
   ]
  },
  {
   "cell_type": "markdown",
   "metadata": {
    "slideshow": {
     "slide_type": "-"
    }
   },
   "source": [
    "* Seuls les mots réservés sont interdits."
   ]
  },
  {
   "cell_type": "code",
   "execution_count": null,
   "metadata": {
    "slideshow": {
     "slide_type": "-"
    }
   },
   "outputs": [],
   "source": [
    "import keyword\n",
    "print(keyword.kwlist)"
   ]
  },
  {
   "cell_type": "markdown",
   "metadata": {
    "slideshow": {
     "slide_type": "slide"
    }
   },
   "source": [
    "# Les fonctions\n",
    "\n",
    "* Une fonction, pour simplifier, va être un bout de code qu'on pourra réutiliser et qui fait un tâche bien précise\n",
    "\n",
    "```python\n",
    "def ma_fonction(arg1, arg2):\n",
    "    \"\"\" description de la fonction \"\"\"\n",
    "    instruction1\n",
    "    instruction2\n",
    "    return resultat\n",
    "```\n",
    "* L'ordre des arguments est déterminant\n",
    "* Il est possible d'outrepasser l'ordre en nommant les arguments lors de l'appel de fonction    \n"
   ]
  },
  {
   "cell_type": "code",
   "execution_count": null,
   "metadata": {
    "slideshow": {
     "slide_type": "subslide"
    }
   },
   "outputs": [],
   "source": [
    "def soustraction(arg1, arg2):\n",
    "    res = arg1 - arg2\n",
    "    return res"
   ]
  },
  {
   "cell_type": "code",
   "execution_count": null,
   "metadata": {
    "slideshow": {
     "slide_type": "-"
    }
   },
   "outputs": [],
   "source": [
    "diff = soustraction(5, 3)    \n",
    "diff"
   ]
  },
  {
   "cell_type": "code",
   "execution_count": null,
   "metadata": {
    "slideshow": {
     "slide_type": "-"
    }
   },
   "outputs": [],
   "source": [
    "diff = soustraction(3, 5)    \n",
    "diff"
   ]
  },
  {
   "cell_type": "code",
   "execution_count": null,
   "metadata": {
    "slideshow": {
     "slide_type": "-"
    }
   },
   "outputs": [],
   "source": [
    "diff = soustraction(arg2=5, arg1=3)    \n",
    "diff"
   ]
  },
  {
   "cell_type": "markdown",
   "metadata": {
    "slideshow": {
     "slide_type": "slide"
    }
   },
   "source": [
    "# Rappel\n",
    "\n",
    "Avant d'utiliser une fonction il est indispensable de savoir : ce que fait la fonction, quels sont les paramètres attendus, quelle est la valeur de retour.\n",
    "\n",
    "Pour accéder à la documentation d'une fonction :\n",
    "* dans la console : `help(int)` <small>(d'une fonction ou d'une classe ou d'un module)</small>  \n",
    "<small>`q` pour sortir de la doc</small>\n",
    "* sur le web : [https://docs.python.org/3/library/functions.html](https://docs.python.org/3/library/functions.html)\n",
    "* ou bien : [DevDocs](http://devdocs.io/)"
   ]
  },
  {
   "cell_type": "markdown",
   "metadata": {
    "slideshow": {
     "slide_type": "slide"
    }
   },
   "source": [
    "# Les chaînes de caractères"
   ]
  },
  {
   "cell_type": "markdown",
   "metadata": {
    "slideshow": {
     "slide_type": "-"
    }
   },
   "source": [
    "* Les chaînes de caractères sont entourées soit de quotes simples `'`, soit de guillemets `\"`\n",
    "* Si votre mot contient une apostrophe, entourez-le de guillemets `\"`"
   ]
  },
  {
   "cell_type": "code",
   "execution_count": null,
   "metadata": {
    "slideshow": {
     "slide_type": "-"
    }
   },
   "outputs": [],
   "source": [
    "'Ça donne une erreur t'as vu'"
   ]
  },
  {
   "cell_type": "code",
   "execution_count": null,
   "metadata": {
    "slideshow": {
     "slide_type": "-"
    }
   },
   "outputs": [],
   "source": [
    "\"Ça donne une erreur t'as vu\""
   ]
  },
  {
   "cell_type": "markdown",
   "metadata": {
    "slideshow": {
     "slide_type": "subslide"
    }
   },
   "source": [
    "Les chaînes ont aussi des fonctions qui leur sont propres\n",
    "\n",
    "Voir la liste complète dans la doc python\n",
    "\n",
    "`lower()` transforme la chaine en minuscules  \n",
    "`upper()` transforme la chaine en majuscules  \n",
    "`replace(old, new)` remplace les occurrences de `old` par `new`  \n",
    "`strip(chars=None)` appelé sans arguments supprime le ou les espaces en tête et en fin de chaîne  \n",
    "`rstrip(chars=None)` fait la même chose en fin de chaîne uniquement  \n",
    "`lstrip(chars=None)` idem en début de chaîne  \n",
    "`split(sep=None)` découpe une chaîne en fonction de `sep` et renvoie une liste. Si `sep` n'est pas donné, coupe sur tous les caractères d'espace  \n",
    "`join(iterable)` est l'inverse de `split`, il permet de joindre les éléments d'une liste de chaînes pour former une seule chaîne de caractères  "
   ]
  },
  {
   "cell_type": "markdown",
   "metadata": {
    "slideshow": {
     "slide_type": "slide"
    }
   },
   "source": [
    "# Les structures de donnée"
   ]
  },
  {
   "cell_type": "markdown",
   "metadata": {
    "slideshow": {
     "slide_type": "-"
    }
   },
   "source": [
    "## Les listes\n",
    "\n",
    "* Une liste une structure de données ordonnée\n",
    "* Une liste peut contenir plusieurs valeurs, variables, listes, objets, ... le tout de types différents\n",
    "* On accède à un élément par son indice (de 0 à n-1, n étant le nombre d'éléments)"
   ]
  },
  {
   "cell_type": "code",
   "execution_count": null,
   "metadata": {
    "slideshow": {
     "slide_type": "-"
    }
   },
   "outputs": [],
   "source": [
    "voyelles = []\n",
    "voyelles = ['a', 'e', 'i', 'o', 'u']\n",
    "print(voyelles[0])\n",
    "\n",
    "chaines = ['abc', 'def', 'ghi']\n",
    "print(chaines[2])\n",
    "print(chaines[-1])\n",
    "\n",
    "chiffres = [0, 1, 2, 3, 4, 5, 6, 7, 8, 9]\n",
    "print(chiffres[5])"
   ]
  },
  {
   "cell_type": "markdown",
   "metadata": {
    "slideshow": {
     "slide_type": "slide"
    }
   },
   "source": [
    "## Les dictionnaires\n",
    "\t\t\t\n",
    "* Un dictionnaire est une structure de données associative de type 'clé' → 'valeur'\n",
    "* Les données ne sont pas ordonnées comme dans les listes\n",
    "* On accède à une valeur par sa clé\n",
    "* Les clés sont uniques : on ne peut pas associer deux valeurs à une même clé    \n",
    "* `keys()` renvoie la liste des clés, `values()` la liste des valeurs"
   ]
  },
  {
   "cell_type": "code",
   "execution_count": null,
   "metadata": {
    "slideshow": {
     "slide_type": "-"
    }
   },
   "outputs": [],
   "source": [
    "couleurs = {'a':'noir', 'e':'blanc', 'i':'rouge', 'u':'vert', 'o':'bleu'}\n",
    "couleurs['i'] = \"pourpre\"\n",
    "couleurs"
   ]
  },
  {
   "cell_type": "code",
   "execution_count": null,
   "metadata": {
    "slideshow": {
     "slide_type": "-"
    }
   },
   "outputs": [],
   "source": [
    "couleurs.keys()"
   ]
  },
  {
   "cell_type": "code",
   "execution_count": null,
   "metadata": {},
   "outputs": [],
   "source": [
    "couleurs.values()"
   ]
  },
  {
   "cell_type": "code",
   "execution_count": null,
   "metadata": {},
   "outputs": [],
   "source": [
    "couleurs.items()"
   ]
  },
  {
   "cell_type": "markdown",
   "metadata": {
    "slideshow": {
     "slide_type": "slide"
    }
   },
   "source": [
    "# Les structures conditionnelles\n",
    "\n",
    "```python\n",
    "if condition:\n",
    "    [...]\n",
    "elif condition:  # si besoin\n",
    "    [...]\n",
    "else:  # si besoin\n",
    "    [...]\n",
    "```\n",
    "\n",
    "### Opérateurs booléens\n",
    "``not`` négation  \n",
    "``and`` conjonction (True si les deux opérandes sont vraies, False sinon)  \n",
    "``or``  disjonction (True si une des deux opérandes est vraie)"
   ]
  },
  {
   "cell_type": "markdown",
   "metadata": {
    "slideshow": {
     "slide_type": "subslide"
    }
   },
   "source": [
    "* Les valeurs ci-dessous sont toutes évaluées par l'interpréteur comme ayant la valeur booléenne *false*\n",
    "\n",
    "  `False` `None` `0` `\"\"` `()` `[]` `{}`\n",
    "\n",
    "* Tout le reste<sup>1</sup> sera évalué comme _true_\n",
    "\n",
    "  Vous pouvez écrire :\n",
    "```python\n",
    ">>> if var: ou while list:  \n",
    "```\n",
    "  plutôt que :  \n",
    "\n",
    "```python\n",
    ">>> if var != \"\": ou while list != []:\n",
    "```\n",
    "\n",
    "<sup>1</sup> <small>Sauf les objets dont vous avez construit les classes. Voir les diapos à venir sur Classes et objets.</small>"
   ]
  },
  {
   "cell_type": "code",
   "execution_count": null,
   "metadata": {
    "slideshow": {
     "slide_type": "-"
    }
   },
   "outputs": [],
   "source": [
    "x = 4\n",
    "if x > 3:\n",
    "    print(\"x a grandi\")"
   ]
  },
  {
   "cell_type": "code",
   "execution_count": null,
   "metadata": {
    "slideshow": {
     "slide_type": "-"
    }
   },
   "outputs": [],
   "source": [
    "if x > 3 and x <= 5:\n",
    "    print(\"x a grandi, un peu\")\n",
    "elif x > 5:\n",
    "    print(\"x a grandi\")\n",
    "else:\n",
    "    print(\"x n'a pas grandi\")"
   ]
  },
  {
   "cell_type": "code",
   "execution_count": null,
   "metadata": {},
   "outputs": [],
   "source": [
    "if x is not None:\n",
    "    print(\"x n'est pas rien\")\n",
    "if not x is None: # Moins élégant et plus lent\n",
    "    print(\"x n'est toujours pas rien\")"
   ]
  },
  {
   "cell_type": "markdown",
   "metadata": {
    "slideshow": {
     "slide_type": "slide"
    }
   },
   "source": [
    "# Les boucles\n",
    "\n",
    "* Les boucles `while` nécessitent que la valeur utilisée dans la condition d'arrêt soit modifiée dans le corps de la boucle."
   ]
  },
  {
   "cell_type": "code",
   "execution_count": null,
   "metadata": {
    "slideshow": {
     "slide_type": "-"
    }
   },
   "outputs": [],
   "source": [
    "i = 1\n",
    "while i < 5:\n",
    "    print(i)\n",
    "    i = i + 1"
   ]
  },
  {
   "cell_type": "markdown",
   "metadata": {
    "slideshow": {
     "slide_type": "subslide"
    }
   },
   "source": [
    "* Les boucles `for` s'appliquent sur les *séquences* (`list`, `str`, `tuple`) et plus généralement sur les *iterables* [voir doc](https://docs.python.org/3/glossary.html#term-iterable)\n",
    "* Les *iterables* sont des objets issus de classes qui implémentent la méthode `__iter__()` et/ou `__getitem__()`\n",
    "* L'instruction `continue` permet de passer à l'itération suivante\n",
    "* L'instruction `break` permet de quitter la boucle en cours"
   ]
  },
  {
   "cell_type": "code",
   "execution_count": null,
   "metadata": {
    "slideshow": {
     "slide_type": "-"
    }
   },
   "outputs": [],
   "source": [
    "for item in voyelles:\n",
    "    print(item)"
   ]
  },
  {
   "cell_type": "code",
   "execution_count": null,
   "metadata": {
    "slideshow": {
     "slide_type": "-"
    }
   },
   "outputs": [],
   "source": [
    "for item in couleurs.keys():\n",
    "    if item == 'i':\n",
    "        continue\n",
    "    print(item)"
   ]
  },
  {
   "cell_type": "code",
   "execution_count": null,
   "metadata": {
    "slideshow": {
     "slide_type": "-"
    }
   },
   "outputs": [],
   "source": [
    "for key, value in couleurs.items():\n",
    "    print(key, value)\n",
    "    if item == 'i':\n",
    "        break"
   ]
  },
  {
   "cell_type": "markdown",
   "metadata": {
    "slideshow": {
     "slide_type": "subslide"
    }
   },
   "source": [
    "* `zip` permet de boucler sur plusieurs séquences\n",
    "* Si les séquences sont de tailles différentes `zip` s'arrête à la longueur la plus petite"
   ]
  },
  {
   "cell_type": "code",
   "execution_count": null,
   "metadata": {
    "slideshow": {
     "slide_type": "-"
    }
   },
   "outputs": [],
   "source": [
    "noms = ['einstein', 'planck', 'turing', 'curie', 'bohr', 'shannon']\n",
    "facs = ['inalco', 'p3', 'p10', 'inalco', 'p3', 'inalco']\n",
    "parcours = ['pro', 'r&d', 'r&d', 'pro', 'pro', 'r&d']\n",
    "for nom, fac, parcours in zip(noms, facs, parcours):\n",
    "    print(\"{} est inscrit en {} à {}\".format(nom, parcours, fac))"
   ]
  },
  {
   "cell_type": "markdown",
   "metadata": {
    "slideshow": {
     "slide_type": "slide"
    }
   },
   "source": [
    "# Exercices série 1 ! Des chiffres et des lettres\n",
    "\n",
    "1. Des heures\n",
    "    1. écrire une fonction `heures(secondes)` qui prend un nombre de secondes (entier) et le convertit en heures, minutes et secondes sous le format `H:M:S` où `H` est le nombre d'heures, `MM` le nombre de minutes et `S` le nombre de secondes.\n",
    "    2. écrire une fonction `secondes(heure)` qui prend une heure au format `H:M:S` et renvoie le nombre de secondes correspondantes (entier)."
   ]
  },
  {
   "cell_type": "markdown",
   "metadata": {
    "slideshow": {
     "slide_type": "subslide"
    }
   },
   "source": [
    "2. Des triangles\n",
    "    1. écrire une fonction `la_plus_grande(longueur1, longueur2, longueur3)` qui renvoie la longueur du plus grand côté (une fonction de python fait peut-être déjà cela...).\n",
    "    2. écrire une fonction `est_equilateral(longueur1, longueur2, longueur3)` qui détermine si un triangle est équilatéral ou non (les trois côtés ont la même longueur).\n",
    "    2. écrire une fonction `est_isocele(longueur1, longueur2, longueur3)` qui détermine si un triangle est isocèle (deux côtés de même longueur mais pas trois) ou non.\n",
    "    3. Écrire une fonction `caracteristiques(longueur1, longueur2, longueur3)` qui donne ses différentes caractéristiques d'un triangle. Affiche `quelconque` si le triangle n'est ni équilatéral ni isocèle."
   ]
  },
  {
   "cell_type": "markdown",
   "metadata": {
    "slideshow": {
     "slide_type": "subslide"
    }
   },
   "source": [
    "3. Des cartes\n",
    "    1. Nous jouons aux cartes à quatre personnes. Chaque carte a une valeur (un entier de 1 à 13). À chaque tour, chaque joueur va jouer une carte. On appelle un pli l'ensemble des cartes jouées dans un tour (ici, quatre cartes). Écrivez une fonction `gagne(carte1, carte2, carte3, carte4)` qui, étant donné un pli, renvoie la carte qui remporte le pli.\n",
    "    2. Chaque carte a également une couleur : carreau, trèfle, cœur ou pic. Ces couleurs sont notés avec une lettre: carreau=`D`, trèfle=`C`, cœur=`H` et pic=`S`. Une carte est alors une chaîne avec sa couleur et sa valeur, par exemple l'as de pic est noté `S1`, la dame de cœur `H12`. La carte du premier joueur `carte1` donne la couleur attendue. Une carte qui n'est pas à la bonne couleur perd automatiquement. Écrire une fonction `gagne_couleur(carte1, carte2, carte3, carte4)` qui renvoie la carte qui remporte le pli en faisant attention aux couleurs."
   ]
  },
  {
   "cell_type": "code",
   "execution_count": null,
   "metadata": {
    "slideshow": {
     "slide_type": "slide"
    }
   },
   "outputs": [],
   "source": [
    "# triangles\n",
    "\n",
    "def la_plus_grande(longueur1, longueur2, longueur3):\n",
    "    \"\"\"Renvoi la plus grand longueur.\"\"\"\n",
    "    # TODO: codez !\n",
    "\n",
    "def est_equilateral(longueur1, longueur2, longueur3):\n",
    "    \"\"\"Renvoi si un triangle est équilatéral.\"\"\"\n",
    "    # TODO: codez !\n",
    "\n",
    "def est_isocele(longueur1, longueur2, longueur3):\n",
    "    \"\"\"Renvoi si un triangle est isocele.\"\"\"\n",
    "    # TODO: codez !\n",
    "\n",
    "def est_triangle(longueur1, longueur2, longueur3):\n",
    "    \"\"\"Renvoi si les longueurs données font bien un triangle.\"\"\"\n",
    "    # TODO: codez !\n",
    "\n",
    "def caracteristiques(longueur1, longueur2, longueur3):\n",
    "    \"\"\"Affiche les caractéristiques d'un triangle.\"\"\"\n",
    "    # TODO: codez !\n",
    "\n",
    "\n",
    "caracteristiques(1, 1, 1) # equilatéral 1\n",
    "caracteristiques(1, 1, 2) # isocèle 2\n",
    "caracteristiques(1, 2, 1) # isocèle 2\n",
    "caracteristiques(2, 1, 1) # isocèle 2\n",
    "caracteristiques(2, 3, 1) # quelconque 3\n",
    "caracteristiques(2, 3, 6) # pas un triangle\n",
    "caracteristiques(6, 3, 2) # pas un triangle\n",
    "caracteristiques(2, 6, 3) # pas un triangle\n",
    "\n",
    "# heures\n",
    "\n",
    "def heures(secondes):\n",
    "    \"\"\"Prend un nombre de secondes (entier) et le convertit en heures, minutes et secondes sous le format `H:M:S` où `H` est le nombre d'heures, `MM` le nombre de minutes et `S` le nombre de secondes.\"\"\"\n",
    "\n",
    "def secondes(heure):\n",
    "    \"\"\"Prend une heure au format `H:M:S` et renvoie le nombre de secondes correspondantes (entier)\"\"\"\n",
    "\n",
    "\n",
    "print(heures(0)) # 0:0:0\n",
    "print(heures(30)) # 0:0:30\n",
    "print(heures(60)) # 0:1:0\n",
    "print(heures(66)) # 0:1:6\n",
    "print(heures(3600)) # 1:0:0\n",
    "print(heures(86466)) # 24:1:6\n",
    "print(secondes('0:0:0')) # 0\n",
    "print(secondes('6:6:6')) # 21966\n",
    "print(secondes(heures(86466))) # 86466\n",
    "print(heures(secondes('24:1:1'))) # 24:1:1\n",
    "print(heures(-1)) # pas des secondes\n",
    "print(secondes('0:0:-1')) # pas une heure\n",
    "print(secondes('0:-1:0')) # pas une heure\n",
    "print(secondes('-1:0:0')) # pas une heure\n",
    "print(secondes('1::0')) # pas une heure\n",
    "print(secondes('::')) # pas une heure\n",
    "\n",
    "# cartes\n",
    "\n",
    "def gagne(carte1, carte2, carte3, carte4):\n",
    "    \"\"\"renvoi la carte qui remporte le pli.\"\"\"\n",
    "    # TODO: codez !\n",
    "\n",
    "def gagne_couleur(carte1, carte2, carte3, carte4):\n",
    "    \"\"\"Renvoi la carte qui remporte le pli en faisant attention aux couleurs.\"\"\"\n",
    "    # TODO: codez !\n",
    "\n",
    "print(gagne(1, 2, 3, 4)) # 4\n",
    "print(gagne(14, 1, 2, 3)) # 14\n",
    "print(gagne(4, 1, 2, 1)) # erreur, deux fois la même carte !\n",
    "print(gagne_couleur('S1', 'S2', 'S3', 'S4')) # S4\n",
    "print(gagne_couleur('S1', 'D2', 'C3', 'H4')) # S1\n",
    "print(gagne_couleur('S1', 'D2', 'S13', 'S10')) # S13\n",
    "print(gagne(14, 1, 20, 3)) # carte invalide: 20\n",
    "print(gagne_couleur('S1', 'D2', 'S13', 'S0')) # carte invalide: S0"
   ]
  },
  {
   "cell_type": "markdown",
   "metadata": {
    "slideshow": {
     "slide_type": "slide"
    }
   },
   "source": [
    "Faire l'exercice ASCII ART de codingame: https://www.codingame.com/ide/puzzle/ascii-art"
   ]
  }
 ],
 "metadata": {
  "celltoolbar": "Diaporama",
  "kernelspec": {
   "display_name": "Python 3",
   "language": "python",
   "name": "python3"
  },
  "language_info": {
   "codemirror_mode": {
    "name": "ipython",
    "version": 3
   },
   "file_extension": ".py",
   "mimetype": "text/x-python",
   "name": "python",
   "nbconvert_exporter": "python",
   "pygments_lexer": "ipython3",
   "version": "3.7.3"
  },
  "livereveal": {
   "autolaunch": true,
   "scroll": true,
   "transition": "none"
  }
 },
 "nbformat": 4,
 "nbformat_minor": 4
}
