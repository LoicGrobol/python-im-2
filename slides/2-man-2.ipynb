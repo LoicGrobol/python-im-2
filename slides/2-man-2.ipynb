{
 "cells": [
  {
   "cell_type": "markdown",
   "metadata": {
    "slideshow": {
     "slide_type": "slide"
    }
   },
   "source": [
    "# langages de script – Python\n",
    "\n",
    "## Remise à niveau 2\n",
    "\n",
    "### M2 Ingénierie Multilingue – INaLCO\n",
    "\n",
    "loic.grobol@gmail.com  \n",
    "yoa.dupont@gmail.com"
   ]
  },
  {
   "cell_type": "markdown",
   "metadata": {
    "slideshow": {
     "slide_type": "slide"
    }
   },
   "source": [
    "# Structures de données : le retour\n",
    "\n",
    "# Les listes\n",
    "\n",
    "- Les listes sont des *sequences* (`str`, `tuple`, `list`)\n",
    "- Les *sequences* sont des structures de données indicées qui peuvent contenir des éléments de différents types\n",
    "- Les *sequences* sont des *iterables*, les listes aussi donc\n",
    "- Les éléments d'une liste peuvent être modifiés (*mutable*)\n",
    "\n",
    "- Une liste vide peut se déclarer de deux façons"
   ]
  },
  {
   "cell_type": "code",
   "execution_count": null,
   "metadata": {},
   "outputs": [],
   "source": [
    "stack = list()\n",
    "stack = []"
   ]
  },
  {
   "cell_type": "code",
   "execution_count": null,
   "metadata": {},
   "outputs": [],
   "source": [
    "stack = list('Perl')\n",
    "stack"
   ]
  },
  {
   "cell_type": "markdown",
   "metadata": {
    "slideshow": {
     "slide_type": "slide"
    }
   },
   "source": [
    "# Les listes : fonctions\n",
    "\n",
    "- Les listes héritent des fonctions des *sequences*, elles ont également des [fonctions propres](https://docs.python.org/3.6/tutorial/datastructures.html#more-on-lists)\n",
    "- Parmi ces fonctions nous utiliserons principalement :\n",
    "  - `append(x)` : ajoute un élément x à la fin de la liste (haut de la pile*)\n",
    "  - `extend([x, y, z])` : ajoute tous les éléments de la liste arg à la fin de la liste\n",
    "  - `pop(index=-1)` : supprime et renvoie l'élément de la liste à la position `index`\n",
    "  - `index(x)` : renvoie l'index du premier élément de valeur x\n",
    "  - `count(x)` : renvoie le nombre de fois où x apparaît\n",
    "  - `sort(key=None, reverse=False)` : trie et modifie la liste, lire la [doc](https://docs.python.org/3.6/howto/sorting.html#sortinghowto) pour en savoir plus sur les ordres de tri."
   ]
  },
  {
   "cell_type": "code",
   "execution_count": null,
   "metadata": {
    "slideshow": {
     "slide_type": "subslide"
    }
   },
   "outputs": [],
   "source": [
    "stack = [12, 15, 12, 7, 18]\n",
    "stack.index(12)"
   ]
  },
  {
   "cell_type": "code",
   "execution_count": null,
   "metadata": {
    "slideshow": {
     "slide_type": "-"
    }
   },
   "outputs": [],
   "source": [
    "stack.count(12)"
   ]
  },
  {
   "cell_type": "code",
   "execution_count": null,
   "metadata": {
    "slideshow": {
     "slide_type": "-"
    }
   },
   "outputs": [],
   "source": [
    "stack.sort()\n",
    "stack"
   ]
  },
  {
   "cell_type": "code",
   "execution_count": null,
   "metadata": {
    "slideshow": {
     "slide_type": "-"
    }
   },
   "outputs": [],
   "source": [
    "stack.append(23)\n",
    "stack"
   ]
  },
  {
   "cell_type": "code",
   "execution_count": null,
   "metadata": {
    "slideshow": {
     "slide_type": "subslide"
    }
   },
   "outputs": [],
   "source": [
    "stack.append([35, 46])\n",
    "stack"
   ]
  },
  {
   "cell_type": "code",
   "execution_count": null,
   "metadata": {
    "slideshow": {
     "slide_type": "-"
    }
   },
   "outputs": [],
   "source": [
    "stack.extend([51, 52])\n",
    "stack"
   ]
  },
  {
   "cell_type": "markdown",
   "metadata": {
    "slideshow": {
     "slide_type": "slide"
    }
   },
   "source": [
    "# Les listes en compréhension\n",
    "\n",
    "- Elles permettent de définir des listes par filtrage ou opération sur les éléments d'une autre liste\n",
    "- La [PEP 202](http://www.python.org/dev/peps/pep-0202/) conseille de préférer les listes en compréhension aux fonctions `map()` et `filter()`"
   ]
  },
  {
   "cell_type": "code",
   "execution_count": null,
   "metadata": {
    "slideshow": {
     "slide_type": "-"
    }
   },
   "outputs": [],
   "source": [
    "[i ** 2 for i in range(10)]"
   ]
  },
  {
   "cell_type": "code",
   "execution_count": null,
   "metadata": {
    "slideshow": {
     "slide_type": "-"
    }
   },
   "outputs": [],
   "source": [
    "[i ** 2 for i in range(10) if i % 2 == 0]"
   ]
  },
  {
   "cell_type": "code",
   "execution_count": null,
   "metadata": {
    "slideshow": {
     "slide_type": "-"
    }
   },
   "outputs": [],
   "source": [
    "[(i, j) for i in range(2) for j in ['a', 'b']]"
   ]
  },
  {
   "cell_type": "markdown",
   "metadata": {
    "slideshow": {
     "slide_type": "slide"
    }
   },
   "source": [
    "## Copie de liste\n",
    "\n",
    "Dans `y = x`, `y` n'est pas un copie de x, les deux pointent vers le même objet"
   ]
  },
  {
   "cell_type": "code",
   "execution_count": null,
   "metadata": {
    "slideshow": {
     "slide_type": "-"
    }
   },
   "outputs": [],
   "source": [
    "x = [1, 2, 3]\n",
    "y = x\n",
    "y[0] = 4\n",
    "x"
   ]
  },
  {
   "cell_type": "markdown",
   "metadata": {
    "slideshow": {
     "slide_type": "-"
    }
   },
   "source": [
    "Pour copier une liste il faut utiliser :"
   ]
  },
  {
   "cell_type": "code",
   "execution_count": null,
   "metadata": {
    "slideshow": {
     "slide_type": "-"
    }
   },
   "outputs": [],
   "source": [
    "x = [1, 2, 3]\n",
    "y = x[:]\n",
    "# ou\n",
    "y = list(x)"
   ]
  },
  {
   "cell_type": "markdown",
   "metadata": {
    "slideshow": {
     "slide_type": "slide"
    }
   },
   "source": [
    "# Les tuples\n",
    "\n",
    "- Les tuples (`tuple`) sont des *sequences* similaires aux listes sauf qu'elles ne peuvent pas être modifiées (*immutable*)\n",
    "- Les tuples sont souvent utilisées comme valeur de retour d'une fonction\n",
    "- Les tuples peuvent être utilisées comme clé de dictionnaire"
   ]
  },
  {
   "cell_type": "code",
   "execution_count": null,
   "metadata": {},
   "outputs": [],
   "source": [
    "voyelles = ('a', 'e', 'i', 'o', 'u', 'y')\n",
    "var = tuple('Perl')\n",
    "var"
   ]
  },
  {
   "cell_type": "markdown",
   "metadata": {
    "slideshow": {
     "slide_type": "slide"
    }
   },
   "source": [
    "# Déballage de séquences\n",
    "\n",
    "- Le *sequence unpacking* permet d'effectuer plusieurs affectations simultanées\n",
    "- L'*unpacking* s'applique souvent sur des tuples"
   ]
  },
  {
   "cell_type": "code",
   "execution_count": null,
   "metadata": {
    "slideshow": {
     "slide_type": "-"
    }
   },
   "outputs": [],
   "source": [
    "x, y, z = (1, 2, 3)\n",
    "y"
   ]
  },
  {
   "cell_type": "code",
   "execution_count": null,
   "metadata": {
    "slideshow": {
     "slide_type": "-"
    }
   },
   "outputs": [],
   "source": [
    "lexique = [(\"maison\", \"mEz§\"), (\"serpent\", \"sERp@\")]\n",
    "for ortho, phon in lexique:\n",
    "    print(phon)"
   ]
  },
  {
   "cell_type": "markdown",
   "metadata": {
    "slideshow": {
     "slide_type": "slide"
    }
   },
   "source": [
    "## Tuple à 1 élément\n",
    "\n",
    "Pour créer un tuple à un élément il faut utiliser la notation `(elem, )`"
   ]
  },
  {
   "cell_type": "code",
   "execution_count": null,
   "metadata": {
    "slideshow": {
     "slide_type": "-"
    }
   },
   "outputs": [],
   "source": [
    "var = (1)\n",
    "type(var)"
   ]
  },
  {
   "cell_type": "code",
   "execution_count": null,
   "metadata": {
    "slideshow": {
     "slide_type": "-"
    }
   },
   "outputs": [],
   "source": [
    "var = (1, )\n",
    "type(var)"
   ]
  },
  {
   "cell_type": "markdown",
   "metadata": {
    "slideshow": {
     "slide_type": "slide"
    }
   },
   "source": [
    "# Parcours de liste\n",
    "\n",
    "La boucle `for` est particulièrement adaptée pour parcourir les *iterables* et donc les listes"
   ]
  },
  {
   "cell_type": "code",
   "execution_count": null,
   "metadata": {},
   "outputs": [],
   "source": [
    "for item in voyelles:\n",
    "    print(item)"
   ]
  },
  {
   "cell_type": "markdown",
   "metadata": {},
   "source": [
    "La fonction `enumerate` peut être utile dans certains cas, elle renvoie un `tuple` contenant l'indice et la valeur de l'item à l'indice concerné"
   ]
  },
  {
   "cell_type": "code",
   "execution_count": null,
   "metadata": {},
   "outputs": [],
   "source": [
    "for i, item in enumerate(voyelles):\n",
    "    print(i, item)"
   ]
  },
  {
   "cell_type": "markdown",
   "metadata": {
    "slideshow": {
     "slide_type": "slide"
    }
   },
   "source": [
    "# Les ensembles\n",
    "\n",
    "Les ensembles (`set`) sont des collections non ordonnées d'élements sans doublons\n",
    "Les ensembles supportent les fonctions mathématiques d'union, d'intersection, de différence ([doc](https://docs.python.org/3.6/library/stdtypes.html#set))\n",
    "\n",
    "  - `value in s` renvoie si `value` est un élément de `s`\n",
    "  - `union(*sets)` renvoie l'union de tous les `sets` (l'ensemble des valeur contenues dans tous les sets).\n",
    "  - `intersection(*sets)` renvoie l'intersection de tous les `sets` (l'ensemble des valeur contenues dans au moins un set).\n"
   ]
  },
  {
   "cell_type": "code",
   "execution_count": null,
   "metadata": {},
   "outputs": [],
   "source": [
    "ens0 = set()  # on crée l'ensemble vide\n",
    "ens0"
   ]
  },
  {
   "cell_type": "code",
   "execution_count": null,
   "metadata": {},
   "outputs": [],
   "source": [
    "ens1 = {'le', 'guépard', 'le', 'poursuit'}\n",
    "ens1"
   ]
  },
  {
   "cell_type": "code",
   "execution_count": null,
   "metadata": {},
   "outputs": [],
   "source": [
    "ens2 = {\"avec\", \"le\", \"chandelier\", \"dans\", \"la\", \"cuisine\"}\n",
    "ens1.intersection(ens2)"
   ]
  },
  {
   "cell_type": "markdown",
   "metadata": {
    "slideshow": {
     "slide_type": "slide"
    }
   },
   "source": [
    "# Les dictionnaires\n",
    "\n",
    "- Les dictionnaires (`dict`) sont des structures de données associatives de type clé: valeur\n",
    "- Les clés d'un dictionnaire sont uniques, seuls les types *immutable* peuvent être des clés ([doc](https://docs.python.org/3.6/library/stdtypes.html#mapping-types-dict))\n",
    "\n",
    "  - `key in d` renvoie True si `key` est une clé de `d`\n",
    "  - `keys()` renvoie la liste des clés\n",
    "  - `values()` renvoie la liste des valeurs\n",
    "  - `items()` renvoie la liste des couples clé:valeur (tuple)\n",
    "  - `get(key, default=None)` renvoie la valeur associée à `key`. Si `key` n'existe pas, ajoute `key` associée à `default`\n",
    "  - `setdefault(key, default=None)` si `key` n'existe pas, insère `key` avec la valeur `default` dans le dictionnaire puis renvoie la valeur associée à la clé."
   ]
  },
  {
   "cell_type": "code",
   "execution_count": null,
   "metadata": {},
   "outputs": [],
   "source": [
    "d = {'Perl':'Larry Wall', 'Python':'Guido Van Rossum', 'C++':'Bjarne Stroustrup'}\n",
    "d['Perl']"
   ]
  },
  {
   "cell_type": "code",
   "execution_count": null,
   "metadata": {
    "slideshow": {
     "slide_type": "subslide"
    }
   },
   "outputs": [],
   "source": [
    "d['Ruby']"
   ]
  },
  {
   "cell_type": "code",
   "execution_count": null,
   "metadata": {},
   "outputs": [],
   "source": [
    "d.get('Ruby')"
   ]
  },
  {
   "cell_type": "markdown",
   "metadata": {
    "slideshow": {
     "slide_type": "slide"
    }
   },
   "source": [
    "# Module collections\n",
    "\n",
    "- Le module *collections* propose des implémentations de structures de données supplémentaires\n",
    "- Dans la liste (voir [doc](https://docs.python.org/3.6/library/collections.html)), deux pourront nous intéresser :\n",
    "\n",
    "  - `defaultdict`\n",
    "\n",
    "     `defauldict` est similaire à un `dict` mais il permet l'autovivification\n",
    "\n",
    "      Son implémentation le rend plus rapide qu'un dictionnaire utilisé avec la fonction `setdefault`\n"
   ]
  },
  {
   "cell_type": "code",
   "execution_count": null,
   "metadata": {},
   "outputs": [],
   "source": [
    "import collections\n",
    "lexique = [(\"couvent\", \"kuv\"), (\"couvent\", \"kuv@\")]\n",
    "dico = collections.defaultdict(list)\n",
    "for ortho, phon in lexique:\n",
    "    dico[ortho].append(phon)\n",
    "dico"
   ]
  },
  {
   "cell_type": "markdown",
   "metadata": {
    "slideshow": {
     "slide_type": "slide"
    }
   },
   "source": [
    "# Module collections\n",
    "\n",
    "  - `Counter`\n",
    "  \n",
    "`Counter` est un dictionnaire où les valeurs attendues sont les nombres d'occurences des clés"
   ]
  },
  {
   "cell_type": "code",
   "execution_count": null,
   "metadata": {},
   "outputs": [],
   "source": [
    "from collections import Counter\n",
    "cnt = Counter()\n",
    "list = ['le', 'guépard', 'le', 'poursuit']\n",
    "for item in list:\n",
    "    cnt[item] += 1\n",
    "cnt"
   ]
  },
  {
   "cell_type": "markdown",
   "metadata": {
    "slideshow": {
     "slide_type": "slide"
    }
   },
   "source": [
    "# Fonctions, la vengence\n",
    "\n",
    "- Elles ont un nom, prennent des arguments, font un traitement et renvoient une valeur\n",
    "- Il est très fortement recommandé de les documenter. En Python on utilise les *docstrings*\n",
    "- Les docstrings sont accessibles dans la console avec help(ma_fonction) ou dans le script via l'attribut `__doc__`: `ma_fonction.__doc__`\n",
    "- Les générateurs de documentation comme [sphinx](http://www.sphinx-doc.org) utilisent les docstrings"
   ]
  },
  {
   "cell_type": "code",
   "execution_count": null,
   "metadata": {
    "slideshow": {
     "slide_type": "-"
    }
   },
   "outputs": [],
   "source": [
    "def soustraction(arg1, arg2):\n",
    "    \"\"\"Une soustraction quoi\"\"\"\n",
    "    res = arg1 - arg2\n",
    "    return res"
   ]
  },
  {
   "cell_type": "markdown",
   "metadata": {
    "slideshow": {
     "slide_type": "subslide"
    }
   },
   "source": [
    "## Fonctions : arguments\n",
    "\n",
    "### Arguments positionnels"
   ]
  },
  {
   "cell_type": "code",
   "execution_count": null,
   "metadata": {
    "slideshow": {
     "slide_type": "-"
    }
   },
   "outputs": [],
   "source": [
    "def soustraction(arg1, arg2):\n",
    "    \"\"\"Une soustraction quoi\"\"\"\n",
    "    return arg1 - arg2"
   ]
  },
  {
   "cell_type": "code",
   "execution_count": null,
   "metadata": {
    "slideshow": {
     "slide_type": "-"
    }
   },
   "outputs": [],
   "source": [
    "soustraction(4, 2)"
   ]
  },
  {
   "cell_type": "code",
   "execution_count": null,
   "metadata": {
    "slideshow": {
     "slide_type": "-"
    }
   },
   "outputs": [],
   "source": [
    "soustraction(2, 4)"
   ]
  },
  {
   "cell_type": "markdown",
   "metadata": {
    "slideshow": {
     "slide_type": "subslide"
    }
   },
   "source": [
    "### Arguments avec valeurs par défaut\n",
    "\n",
    "Ici `arg1` est obligatoire, `arg2` est facultatif"
   ]
  },
  {
   "cell_type": "code",
   "execution_count": null,
   "metadata": {
    "slideshow": {
     "slide_type": "-"
    }
   },
   "outputs": [],
   "source": [
    "def soustraction(arg1, arg2=1):\n",
    "    \"\"\"Une soustraction quoi\"\"\"\n",
    "    return arg1 - arg2"
   ]
  },
  {
   "cell_type": "code",
   "execution_count": null,
   "metadata": {
    "slideshow": {
     "slide_type": "-"
    }
   },
   "outputs": [],
   "source": [
    "soustraction(4, 1)"
   ]
  },
  {
   "cell_type": "code",
   "execution_count": null,
   "metadata": {
    "slideshow": {
     "slide_type": "-"
    }
   },
   "outputs": [],
   "source": [
    "soustraction(4)"
   ]
  },
  {
   "cell_type": "markdown",
   "metadata": {
    "slideshow": {
     "slide_type": "slide"
    }
   },
   "source": [
    "### Arguments nommés (keywords arguments aka kwargs)\n",
    "\n",
    "- On peut aussi appeler les fonctions avec des arguments nommés\n",
    "- Dans ce cas l'ordre n'a pas d'importance\n",
    "- On peut utiliser les deux, mais les keywords doivent être en dernier"
   ]
  },
  {
   "cell_type": "code",
   "execution_count": null,
   "metadata": {
    "slideshow": {
     "slide_type": "-"
    }
   },
   "outputs": [],
   "source": [
    "soustraction(4, arg2=3)"
   ]
  },
  {
   "cell_type": "markdown",
   "metadata": {
    "slideshow": {
     "slide_type": "slide"
    }
   },
   "source": [
    "### Nombre d'arguments arbitraires"
   ]
  },
  {
   "cell_type": "markdown",
   "metadata": {},
   "source": [
    "Avec l'argument `*args`, une fonction peut prendre un nombre arbitraire d'éléments. On parle alors de fonction *variadique*."
   ]
  },
  {
   "cell_type": "code",
   "execution_count": null,
   "metadata": {
    "slideshow": {
     "slide_type": "-"
    }
   },
   "outputs": [],
   "source": [
    "def print_artist(name, *records):\n",
    "    \"\"\"Affiche un nom d'artiste puis une liste de ses enregistrements.\"\"\"\n",
    "    print(name)\n",
    "    for item in records:\n",
    "        print(item)\n",
    "print_artist(\"Neil Young\", \"Ragged Glory\", \"Harvest Moon\")"
   ]
  },
  {
   "cell_type": "markdown",
   "metadata": {
    "slideshow": {
     "slide_type": "subslide"
    }
   },
   "source": [
    "On peut aussi utiliser des `**kwargs` (*KeyWord ARGuments*)"
   ]
  },
  {
   "cell_type": "code",
   "execution_count": null,
   "metadata": {
    "slideshow": {
     "slide_type": "-"
    }
   },
   "outputs": [],
   "source": [
    "def print_artist(name, *records, **concerts):\n",
    "    \"\"\"Affiche un nom d'artiste, une liste de ses enregistrements\n",
    "    et des dates de concert.\n",
    "    \"\"\"\n",
    "    print(name)\n",
    "    for item in records:\n",
    "        print(item)\n",
    "    for place, date in concerts.items():\n",
    "        print(place, date)\n",
    "print_artist(\"Neil Young\", \"Ragged Glory\", \"Harvest Moon\", Paris='12/10/2016', Albuquerque=\"14/11/2016\")"
   ]
  },
  {
   "cell_type": "markdown",
   "metadata": {
    "slideshow": {
     "slide_type": "slide"
    }
   },
   "source": [
    "## Fonctions : portée des variables\n",
    "\n",
    "Les variables déclarées dans le corps d'une fonction ont une portée locale à la fonction"
   ]
  },
  {
   "cell_type": "code",
   "execution_count": null,
   "metadata": {},
   "outputs": [],
   "source": [
    "def foo():\n",
    "    a = 2713\n",
    "    print(a)\n",
    "\n",
    "foo()\n",
    "print(a)"
   ]
  },
  {
   "cell_type": "markdown",
   "metadata": {
    "slideshow": {
     "slide_type": "subslide"
    }
   },
   "source": [
    "Les variables globales (c-à-d dans le *top level*) sont accessibles en lecture dans une fonction"
   ]
  },
  {
   "cell_type": "code",
   "execution_count": null,
   "metadata": {
    "slideshow": {
     "slide_type": "-"
    }
   },
   "outputs": [],
   "source": [
    "a = 2713\n",
    "\n",
    "def foo():\n",
    "    print(a)\n",
    "\n",
    "foo()\n",
    "a = 2\n",
    "foo()"
   ]
  },
  {
   "cell_type": "markdown",
   "metadata": {
    "slideshow": {
     "slide_type": "subslide"
    }
   },
   "source": [
    "En revanche, les redéfinitions dans une fonction ne touchent pas la variable globale"
   ]
  },
  {
   "cell_type": "code",
   "execution_count": null,
   "metadata": {
    "slideshow": {
     "slide_type": "-"
    }
   },
   "outputs": [],
   "source": [
    "a = 2713\n",
    "\n",
    "def foo():\n",
    "    a = 2\n",
    "    print(f'Dans foo: a={a}')\n",
    "\n",
    "print(f'Dans toplevel: a={a}')\n",
    "foo()\n",
    "print(f'Dans toplevel: a={a}')"
   ]
  },
  {
   "cell_type": "markdown",
   "metadata": {},
   "source": [
    "**En détail :** Dans la fonction `foo`, `a=2` créé une variable locale qui masque (*shadow*) la variable globale `a`, mais cet effet est limité au bloc de la fonction : c'est pourquoi on retrouve la valeur originale de `a` quand on en sort."
   ]
  },
  {
   "cell_type": "markdown",
   "metadata": {
    "slideshow": {
     "slide_type": "subslide"
    }
   },
   "source": [
    "Pour qu'une affectation ait une portée globale, il faut le demander explicitement avec le mot-clé `global`"
   ]
  },
  {
   "cell_type": "code",
   "execution_count": null,
   "metadata": {},
   "outputs": [],
   "source": [
    "a = 2713\n",
    "\n",
    "def foo():\n",
    "    global a\n",
    "    a = 2\n",
    "    print(f'Dans foo: a={a}')\n",
    "\n",
    "print(f'Dans toplevel: a={a}')\n",
    "foo()\n",
    "print(f'Dans toplevel: a={a}')"
   ]
  },
  {
   "cell_type": "markdown",
   "metadata": {
    "slideshow": {
     "slide_type": "subslide"
    }
   },
   "source": [
    "Le modèle de portée des variables de Python est complexe, ce qui précède est une simplification. Pour aller plus loin\n",
    "  \n",
    "  - [La présentation de Ned Batchelder](https://nedbatchelder.com/text/names1.html) à PyCon 2015 (lecture vivement recommandée)\n",
    "  - [La doc](https://docs.python.org/3/reference/executionmodel.html#naming-and-binding) comme toujours"
   ]
  },
  {
   "cell_type": "markdown",
   "metadata": {
    "slideshow": {
     "slide_type": "slide"
    }
   },
   "source": [
    "## Fonctions : arguments mutables\n",
    "Changer la valeur d'une variable passée en argument n'a pas d'effet sur cette variable"
   ]
  },
  {
   "cell_type": "code",
   "execution_count": null,
   "metadata": {
    "slideshow": {
     "slide_type": "-"
    }
   },
   "outputs": [],
   "source": [
    "def ma_fonction(val):\n",
    "    print(f'Dans ma_fonction: {val}')\n",
    "    val = 3\n",
    "    print(f'Dans ma_fonction: {val}')\n",
    "\n",
    "a = 2\n",
    "print(f'Dans top level: {a}')\n",
    "ma_fonction(a)\n",
    "print(f'Dans top level: {a}')"
   ]
  },
  {
   "cell_type": "markdown",
   "metadata": {},
   "source": [
    "On dit que les arguments sont « passés par *valeur* », par oppostion à « passés par *référence* »"
   ]
  },
  {
   "cell_type": "markdown",
   "metadata": {
    "slideshow": {
     "slide_type": "subslide"
    }
   },
   "source": [
    "En revanche, les arguments mutables (`list`, `dict`, `set`, …) peuvent être modifiés par la fonction"
   ]
  },
  {
   "cell_type": "code",
   "execution_count": null,
   "metadata": {
    "slideshow": {
     "slide_type": "-"
    }
   },
   "outputs": [],
   "source": [
    "def ma_fonction(val, lst):\n",
    "    print(f'Dans ma_fonction: {lst}')\n",
    "    lst.append(val)\n",
    "    print(f'Dans ma_fonction: {lst}')\n",
    "\n",
    "l = [1, 2, 3]\n",
    "print(f'Dans toplevel: {l}')\n",
    "ma_fonction(4, l)\n",
    "print(f'Dans toplevel: {l}')"
   ]
  },
  {
   "cell_type": "markdown",
   "metadata": {
    "slideshow": {
     "slide_type": "subslide"
    }
   },
   "source": [
    "Si ce n'est pas le comportement voulu, il faut créer explicitement une nouvelle liste"
   ]
  },
  {
   "cell_type": "code",
   "execution_count": null,
   "metadata": {
    "slideshow": {
     "slide_type": "-"
    }
   },
   "outputs": [],
   "source": [
    "def ma_fonction(val, lst):\n",
    "    print(f'Dans ma_fonction: {lst}')\n",
    "    lst_copy = lst[:]\n",
    "    lst_copy.append(val)\n",
    "    lst = lst_copy\n",
    "    print(f'Dans ma_fonction:{lst}')\n",
    "\n",
    "l = [1, 2, 3]\n",
    "print(f'Dans toplevel: {l}')\n",
    "ma_fonction(4, l)\n",
    "print(f'Dans toplevel: {l}')"
   ]
  },
  {
   "cell_type": "markdown",
   "metadata": {
    "slideshow": {
     "slide_type": "subslide"
    }
   },
   "source": [
    "Ou en plus compact"
   ]
  },
  {
   "cell_type": "code",
   "execution_count": null,
   "metadata": {
    "slideshow": {
     "slide_type": "-"
    }
   },
   "outputs": [],
   "source": [
    "def ma_fonction(val, lst):\n",
    "    print(f'Dans ma_fonction: {lst}')\n",
    "    lst = lst[:]\n",
    "    lst.append(val)\n",
    "    print(f'Dans ma_fonction:{lst}')\n",
    "\n",
    "l = [1, 2, 3]\n",
    "print(f'Dans toplevel: {l}')\n",
    "ma_fonction(4, l)\n",
    "print(f'Dans toplevel: {l}')"
   ]
  },
  {
   "cell_type": "markdown",
   "metadata": {
    "slideshow": {
     "slide_type": "subslide"
    }
   },
   "source": [
    "## Attention !\n",
    "Il est parfois difficile de savoir quelles opérations font une copie des variables, ainsi"
   ]
  },
  {
   "cell_type": "code",
   "execution_count": null,
   "metadata": {},
   "outputs": [],
   "source": [
    "a = [1, 2, 3]\n",
    "b = a\n",
    "b = b + [4]\n",
    "print(b)\n",
    "print(a)"
   ]
  },
  {
   "cell_type": "markdown",
   "metadata": {},
   "source": [
    "mais"
   ]
  },
  {
   "cell_type": "code",
   "execution_count": null,
   "metadata": {},
   "outputs": [],
   "source": [
    "a = [1, 2, 3]\n",
    "b = a\n",
    "b += [4]\n",
    "print(b)\n",
    "print(a)"
   ]
  },
  {
   "cell_type": "markdown",
   "metadata": {
    "slideshow": {
     "slide_type": "slide"
    }
   },
   "source": [
    "# Assertions\n",
    "\t\n",
    "* Les assertions (`assert condition`) permettent de vérifier qu'une condition est remplie avant de poursuivre le programme\n",
    "\n",
    "* `assert` est utilisé à des fins de débogage.\n",
    "* Les assertions ne sont pas prises en compte si l'interpréteur est appelé avec l'option -O (optimisation)"
   ]
  },
  {
   "cell_type": "code",
   "execution_count": null,
   "metadata": {
    "slideshow": {
     "slide_type": "-"
    }
   },
   "outputs": [],
   "source": [
    "var = 2\n",
    "assert 1 <= var <= 10"
   ]
  },
  {
   "cell_type": "markdown",
   "metadata": {
    "slideshow": {
     "slide_type": "-"
    }
   },
   "source": [
    "est équivalent à :"
   ]
  },
  {
   "cell_type": "code",
   "execution_count": null,
   "metadata": {
    "slideshow": {
     "slide_type": "-"
    }
   },
   "outputs": [],
   "source": [
    "if __debug__:\n",
    "    if not 1 <= var <= 10: raise AssertionError\n"
   ]
  },
  {
   "cell_type": "markdown",
   "metadata": {
    "slideshow": {
     "slide_type": "slide"
    }
   },
   "source": [
    "## Attention !\n",
    "\n",
    "Les assertions ne servent qu'à déboguer des erreurs qui ne sont pas censées arriver dans \"la vraie vie\" ! Pour gérer des erreurs qui peuvent survenir, il faut utiliser des exceptions (on verra plus en détail plus tard).  \n",
    "\n",
    "Si on reprend la fonction heures:"
   ]
  },
  {
   "cell_type": "code",
   "execution_count": null,
   "metadata": {
    "slideshow": {
     "slide_type": "-"
    }
   },
   "outputs": [],
   "source": [
    "def heures(secondes):\n",
    "    H = secondes // 3600\n",
    "    M = (secondes % 3600) // 60\n",
    "    S = secondes % 60\n",
    "    return f\"{H}:{M}:{S}\"\n",
    "\n",
    "heures(-1)"
   ]
  },
  {
   "cell_type": "markdown",
   "metadata": {
    "slideshow": {
     "slide_type": "-"
    }
   },
   "source": [
    "Si on veut gérer une situation anormale (comme un nombre négatif de secondes), il faut lever une exception (avec le mot-clé `raise`) :"
   ]
  },
  {
   "cell_type": "code",
   "execution_count": null,
   "metadata": {
    "slideshow": {
     "slide_type": "-"
    }
   },
   "outputs": [],
   "source": [
    "def heures(secondes):\n",
    "    if secondes < 0:\n",
    "        raise ValueError(\"Nombre négatif de secondes.\")\n",
    "    H = secondes // 3600\n",
    "    M = (secondes % 3600) // 60\n",
    "    S = secondes % 60\n",
    "    return f\"{H}:{M}:{S}\"\n",
    "\n",
    "heures(-1)"
   ]
  },
  {
   "cell_type": "markdown",
   "metadata": {
    "slideshow": {
     "slide_type": "-"
    }
   },
   "source": [
    "Une exception peut alors être attrapée et gérée à un endroit approprié :"
   ]
  },
  {
   "cell_type": "code",
   "execution_count": null,
   "metadata": {
    "slideshow": {
     "slide_type": "-"
    }
   },
   "outputs": [],
   "source": [
    "try:\n",
    "    heures(-1)\n",
    "except ValueError:  # on s'attend à ce qu'une erreur de ce genre puisse arriver\n",
    "    print(\"pas une heure\")"
   ]
  },
  {
   "cell_type": "markdown",
   "metadata": {},
   "source": [
    "Python dispose de nombreuses exceptions pour gérer différents cas, lisez bien la doc pour vous aider à les comprendre ou même pour les utiliser vous-même."
   ]
  },
  {
   "cell_type": "markdown",
   "metadata": {
    "slideshow": {
     "slide_type": "slide"
    }
   },
   "source": [
    "# Les fichiers\n",
    "\n",
    "* Pour travailler avec les fichiers on doit procéder à trois opérations :\n",
    "   1. Ouverture avec la fonction `open` (lève l'exception `FileNotFoundError` en cas d'échec)\n",
    "   2. Lecture (`read` ou `readline` ou `readlines`) et/ou écriture (`write`)\n",
    "   3. Fermeture du fichier avec la fonction `close`\n",
    "\t      \n",
    "* Ouverture\n",
    "  * `open` est une fonction qui accepte de nombreux arguments : RTFM\n",
    "  * `open` renvoie un objet de type `file`\t      \n",
    "  * Le plus souvent elle s'emploie de la manière suivante:\n",
    "  ```python\n",
    ">>> #f = open(filename, mode)\t   \n",
    ">>> f = open('nom_fichier', 'w')\n",
    "```"
   ]
  },
  {
   "cell_type": "markdown",
   "metadata": {
    "slideshow": {
     "slide_type": "subslide"
    }
   },
   "source": [
    "Les modes sont : \n",
    "\n",
    "* `r` : lecture (défaut)\n",
    "* `w` : écriture\n",
    "* `x` : création et écriture (échec si le fichier existe déjà)\n",
    "* `a` : concaténation (append)\n",
    "  \n",
    "  \n",
    "* `b` : mode binaire\n",
    "* `t` : mode texte (défaut)\n",
    "* `+` : read/write (ex: r+b)\n"
   ]
  },
  {
   "cell_type": "markdown",
   "metadata": {
    "slideshow": {
     "slide_type": "subslide"
    }
   },
   "source": [
    "## Les fichiers : ouverture\n",
    "\n",
    "La documentation de Python conseille cette façon de faire \n",
    "```python\n",
    "with open('mon_fichier', 'r') as f:\n",
    "    read_data = f.read()\n",
    "```\n",
    "L'utilisation du mot clé `with` garantit la fermeture du fichier même si une exception est soulevée"
   ]
  },
  {
   "cell_type": "markdown",
   "metadata": {
    "slideshow": {
     "slide_type": "subslide"
    }
   },
   "source": [
    "## Les fichiers : lecture\n",
    "\n",
    "* `read(size=-1)` lit les `size` premiers octets (mode `b`) ou caractères (mode `t`). Si `size` < 0, lit tout le fichier.\n",
    "* `readline(size=-1)` lit au plus `size` caractères ou jusqu'à la fin de ligne. Si `size` < 0, lit toute la ligne. Il est conseillé de ne pas toucher à `size`.\n",
    "* `readlines(hint=-1)` lit `hint` lignes du fichier. Si `hint` < 0, lit toutes les lignes du fichier.\n",
    "* un objet `file` est un itérable ! (*the pythonic way*)\n",
    "\n",
    "```python\n",
    "for line in f:\n",
    "    process(line)\n",
    "```"
   ]
  },
  {
   "cell_type": "markdown",
   "metadata": {
    "slideshow": {
     "slide_type": "subslide"
    }
   },
   "source": [
    "## Les fichiers : écriture et fermeture\n",
    "\n",
    "* `write(text)` écrit `texte` dans le fichier?\n",
    "* `close()` ferme le fichier.  \n",
    "\n",
    "En règle générale veillez à toujours fermer les objets fichiers.  \n",
    "En mode écriture oublier de fermer un fichier peut réserver des mauvaises surprises\n",
    "\n",
    "* fonction `print`\n",
    "```python\n",
    "with open('mon_fichier', 'w') as output_f:\n",
    "    for item in list:\n",
    "        print(item, file=output_f)\n",
    "```\n",
    "* `sys.stdin`, `sys.stdout` et `sys.stderr` sont des objets de type `file`"
   ]
  },
  {
   "cell_type": "markdown",
   "metadata": {
    "slideshow": {
     "slide_type": "slide"
    }
   },
   "source": [
    "#### Exos\n",
    "\n",
    "1. Résoudre The Descent sur CodinGame\n",
    "2. Sur le fichier `zola_ventre-de-paris.txt`:\n",
    "  1. combien y a-t-il de mots graphiques (séparés par des caractères d'espacement : espace, retour à la ligne, etc.) différents ?\n",
    "  2. quels sont les 10 mots graphiques les plus fréquents ?\n",
    "  3. Certains mots dans le texte sont coupés, le caractère `¬` indique qu'un mot a été coupé. Écrivez un fichier `zola_ventre-de-paris_recollé.txt` où les mots seront recollés (`m'em¬ bêtez` deviendra `m'embêtez`).\n"
   ]
  }
 ],
 "metadata": {
  "celltoolbar": "Diaporama",
  "kernelspec": {
   "display_name": "Python 3",
   "language": "python",
   "name": "python3"
  },
  "language_info": {
   "codemirror_mode": {
    "name": "ipython",
    "version": 3
   },
   "file_extension": ".py",
   "mimetype": "text/x-python",
   "name": "python",
   "nbconvert_exporter": "python",
   "pygments_lexer": "ipython3",
   "version": "3.7.3"
  },
  "livereveal": {
   "autolaunch": true,
   "scroll": true,
   "transition": "none"
  }
 },
 "nbformat": 4,
 "nbformat_minor": 2
}
