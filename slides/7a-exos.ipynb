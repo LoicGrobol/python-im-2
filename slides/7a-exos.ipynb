{
 "cells": [
  {
   "cell_type": "markdown",
   "metadata": {},
   "source": [
    "---\n",
    "\n",
    "# Langages de script - Python\n",
    "## Cours 7.1 — Exercices\n",
    "### M2 Ingénierie Multilingue - INaLCO\n",
    "\n",
    "---\n",
    "\n",
    "- Loïc Grobol <loic.grobol@gmail.com>\n",
    "- Yoann Dupont <yoa.dupont@gmail.com>"
   ]
  },
  {
   "cell_type": "markdown",
   "metadata": {},
   "source": [
    "## Un peu de traitement de chaînes\n",
    "\n",
    "Écrire un script python qui lit un fichier ligne par ligne et affiche pour chaque ligne\n",
    "\n",
    "- `a` si la ligne contient la chaîne `spam`\n",
    "- `b` si la ligne contient au plus 5 caractères et finit par un `z`\n",
    "- Si la ligne contient une adresse mail de la forme `x.y@z.t`, afficher cette adresse\n",
    "- `d` si les trois premiers caractères sont les mêmes que les trois derniers et dans le même ordre\n",
    "- `e` si la ligne est un palindrôme, i.e. si la lire de gauche à droite ou de droite à gauche donne le même résultat, e.g. `pyttyp`\n",
    "- `NOPE` sinon\n",
    "\n",
    "Ne pas tenir compte du caractère de fin de ligne\n",
    "\n",
    "Lancez votre script sur [7.0-testcase.txt](/data/7.0-testcase.txt), vous devriez obtenir le même résultat que [7.0-target.txt](/data/7.0-target.txt)"
   ]
  }
 ],
 "metadata": {
  "kernelspec": {
   "display_name": "Python 3",
   "language": "python",
   "name": "python3"
  },
  "language_info": {
   "codemirror_mode": {
    "name": "ipython",
    "version": 3
   },
   "file_extension": ".py",
   "mimetype": "text/x-python",
   "name": "python",
   "nbconvert_exporter": "python",
   "pygments_lexer": "ipython3",
   "version": "3.7.5rc1"
  }
 },
 "nbformat": 4,
 "nbformat_minor": 2
}
