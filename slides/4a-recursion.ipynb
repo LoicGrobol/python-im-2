{
 "cells": [
  {
   "cell_type": "markdown",
   "metadata": {
    "slideshow": {
     "slide_type": "slide"
    }
   },
   "source": [
    "# Langages de script - Python\n",
    "## Cours 4a - Récursivité\n",
    "### M2 Ingénierie Multilingue - INaLCO\n",
    "\n",
    "- Loïc Grobol <loic.grobol@gmail.com>\n",
    "- Yoann Dupont <yoa.dupont@gmail.com>\n"
   ]
  },
  {
   "cell_type": "markdown",
   "metadata": {
    "slideshow": {
     "slide_type": "slide"
    }
   },
   "source": [
    "> Wikipedia trivia: if you take any article, click on the first link in the article text not in parentheses or italics, **and then repeat**, you will eventually end up at \"Philosophy\". ([xkcd #903](https://xkcd.com/903/))"
   ]
  },
  {
   "cell_type": "markdown",
   "metadata": {
    "slideshow": {
     "slide_type": "notes"
    }
   },
   "source": [
    "Faites-le, puis passez au slide suivant"
   ]
  },
  {
   "cell_type": "code",
   "execution_count": null,
   "metadata": {
    "slideshow": {
     "slide_type": "subslide"
    }
   },
   "outputs": [],
   "source": [
    "def f():\n",
    "    print(\"a\")\n",
    "\n",
    "def g():\n",
    "    f()\n",
    "    print(\"b\")\n",
    "\n",
    "g()"
   ]
  },
  {
   "cell_type": "code",
   "execution_count": null,
   "metadata": {
    "slideshow": {
     "slide_type": "subslide"
    }
   },
   "outputs": [],
   "source": [
    "def g():\n",
    "    f()\n",
    "    print(\"b\")\n",
    "    g()\n",
    "g()"
   ]
  },
  {
   "cell_type": "markdown",
   "metadata": {
    "slideshow": {
     "slide_type": "slide"
    }
   },
   "source": [
    "# La récursivité, c'est quoi ?\n",
    "\n",
    "Si on en croit un dictionnaire : \"propriété de ce qui est récursif\"."
   ]
  },
  {
   "cell_type": "markdown",
   "metadata": {
    "slideshow": {
     "slide_type": "fragment"
    }
   },
   "source": [
    "Selon le [TLFI](https://www.cnrtl.fr/definition/recursivité), est récursif tout ce \"qui peut être répété théoriquement un nombre indéfini de fois par application de la même règle, par la voie d'un automatisme\"  \n",
    "Un exemple en français serait les surbordonnées relatives."
   ]
  },
  {
   "cell_type": "code",
   "execution_count": null,
   "metadata": {
    "slideshow": {
     "slide_type": "fragment"
    }
   },
   "outputs": [],
   "source": [
    "def temoin(individu):\n",
    "    return \"l'homme qui a vu \" + individu\n",
    "print(temoin(\"l'ours\"))\n",
    "print(temoin(temoin(\"l'ours\")))\n",
    "print(temoin(temoin(temoin(\"l'ours\"))))"
   ]
  },
  {
   "cell_type": "markdown",
   "metadata": {
    "slideshow": {
     "slide_type": "subslide"
    }
   },
   "source": [
    "En programmation, on utilisera des fonctions récursives. Ce sont des fonctions qui vont s'appeler elles-mêmes (directement ou indirectement) à un moment donné.  \n",
    "On les oppose généralement aux fonctions dites *itératives* que l'on a vues jusqu'à présent."
   ]
  },
  {
   "cell_type": "code",
   "execution_count": null,
   "metadata": {},
   "outputs": [],
   "source": [
    "import re\n",
    "\n",
    "def individu_original(s):\n",
    "    m = re.match(r\".* qui a vu (.*)\", s)\n",
    "    if m:\n",
    "        return individu_original(m.group(1))\n",
    "    else:\n",
    "        return s\n",
    "\n",
    "print(individu_original(\"l'ours\"))\n",
    "print(individu_original(\"l'homme qui a vu l'ours\"))\n",
    "print(individu_original(\"l'homme qui a vu la femme qui a vu l'ours qui a mangé le facteur\"))"
   ]
  },
  {
   "cell_type": "markdown",
   "metadata": {
    "slideshow": {
     "slide_type": "slide"
    }
   },
   "source": [
    "# Pourquoi les fonctions récursives ?\n",
    "\n",
    "Les fonctions récursives sont une autre façon de formuler un algorithme.  \n",
    "Un algorithme récursif permet de résourdre un problème en le \"cassant\" en des problèmes plus simples ou en le formulant via un processus simple que l'on va répéter.  \n",
    "Certains algorithmes seront **beaucoup** plus faciles à écrire de manière récursive qu'itérative."
   ]
  },
  {
   "cell_type": "markdown",
   "metadata": {
    "slideshow": {
     "slide_type": "subslide"
    }
   },
   "source": [
    "Pour commencer en douceur, nous allons voir un exemple classique, la [factorielle](https://fr.wikipedia.org/wiki/Factorielle). La factorielle d'un entier positif n est le produit des entiers positifs de 1 à n. Par convention, `factorielle(0) = 1`.\n",
    "\n",
    "On voit sur la page Wikipédia deux façons de définir la factorielle :\n",
    "* la façon itérative : `n! = 1 * 2 * ... * n`\n",
    "* la façon récursive :\n",
    "  * `n! = 1` si `n = 0`\n",
    "  * `(n-1)! * n` sinon\n",
    "\n",
    "Voyons comment tout ça se formule en code :"
   ]
  },
  {
   "cell_type": "code",
   "execution_count": null,
   "metadata": {
    "slideshow": {
     "slide_type": "subslide"
    }
   },
   "outputs": [],
   "source": [
    "def factorielle_iterative(n):\n",
    "    \"\"\"La factorielle calculée de manière itérative.\"\"\"\n",
    "    # factorielle n'est pas définie pour les valeurs négatives, on gère ça de façon sale ici...\n",
    "    factorielle = 1\n",
    "    for i in range(1, n+1):\n",
    "        factorielle *= i\n",
    "    return factorielle\n",
    "\n",
    "print(factorielle_iterative(0))\n",
    "print(factorielle_iterative(1))\n",
    "print(factorielle_iterative(2))\n",
    "print(factorielle_iterative(3))\n",
    "print(factorielle_iterative(4))\n",
    "print(factorielle_iterative(5))"
   ]
  },
  {
   "cell_type": "code",
   "execution_count": null,
   "metadata": {
    "slideshow": {
     "slide_type": "fragment"
    }
   },
   "outputs": [],
   "source": [
    "def factorielle_recursive(n):\n",
    "    \"\"\"La factorielle calculée de manière récursive\"\"\"\n",
    "    # factorielle n'est pas définie pour les valeurs négatives, on gère ça de façon sale ici...\n",
    "    if n <= 0:\n",
    "        return 1\n",
    "    else:\n",
    "        return factorielle_recursive(n-1) * n\n",
    "\n",
    "print(factorielle_recursive(0))\n",
    "print(factorielle_recursive(1))\n",
    "print(factorielle_recursive(2))\n",
    "print(factorielle_recursive(3))\n",
    "print(factorielle_recursive(4))\n",
    "print(factorielle_recursive(5))"
   ]
  },
  {
   "cell_type": "markdown",
   "metadata": {
    "slideshow": {
     "slide_type": "slide"
    }
   },
   "source": [
    "# Différents types de récursivité"
   ]
  },
  {
   "cell_type": "markdown",
   "metadata": {
    "slideshow": {
     "slide_type": "-"
    }
   },
   "source": [
    "## Récursivité linéaire (ou simple)\n",
    "\n",
    "On parle de récursivité linéaire quand chaque cas décrit par l'algorithme se résout en au plus un appel récursif, ce qui est strictement équivalent à une boucle"
   ]
  },
  {
   "cell_type": "code",
   "execution_count": null,
   "metadata": {
    "slideshow": {
     "slide_type": "-"
    }
   },
   "outputs": [],
   "source": [
    "def factorielle_recursive(n):\n",
    "    \"\"\"La factorielle calculée de manière récursive\"\"\"\n",
    "    # factorielle n'est pas définie pour les valeurs négatives, on gère ça de façon sale ici...\n",
    "    if n <= 0:  # le cas de base : on a pas besoin de récursion, on sait quoi retourner\n",
    "        return 1\n",
    "    else:\n",
    "        return factorielle_recursive(n-1) * n  # on va construire la chaîne des opérations qui sera évaluée en différée"
   ]
  },
  {
   "cell_type": "markdown",
   "metadata": {
    "slideshow": {
     "slide_type": "subslide"
    }
   },
   "source": [
    "Mini-exercice :\n",
    "1. écrivez une fonction récursive `affiche_croissant(n)` qui affiche les entiers positifs de `0` à `n` dans l'ordre croissant.\n",
    "2. écrivez une fonction récursive `affiche_decroissant(n)` qui affiche les entiers positifs de `0` à `n` dans l'ordre décroissant."
   ]
  },
  {
   "cell_type": "code",
   "execution_count": null,
   "metadata": {
    "slideshow": {
     "slide_type": "-"
    }
   },
   "outputs": [],
   "source": [
    "def affiche_croissant(n):\n",
    "    \"\"\"Affiche les entiers positifs de zéro à `n` dans l'ordre croissant.\"\"\"\n",
    "    pass\n",
    "    # TODO: codez !\n",
    "\n",
    "def affiche_decroissant(n):\n",
    "    \"\"\"Affiche les entier positifs de zéro à `n` dans l'ordre décroissant.\"\"\"\n",
    "    pass\n",
    "    # TODO: codez !"
   ]
  },
  {
   "cell_type": "markdown",
   "metadata": {
    "slideshow": {
     "slide_type": "subslide"
    }
   },
   "source": [
    "## Récursion mutuelle (ou récursivité croisée)\n",
    "\n",
    "On parle de récursion mutuelle lorsque deux (ou plus) fonctions vont s'appeler mutuellement de manière récursive."
   ]
  },
  {
   "cell_type": "code",
   "execution_count": null,
   "metadata": {
    "slideshow": {
     "slide_type": "-"
    }
   },
   "outputs": [],
   "source": [
    "def pair(x):\n",
    "    if x == 0:\n",
    "        return True\n",
    "    return not impair(x-1)\n",
    "\n",
    "def impair(x):\n",
    "    if x == 1:\n",
    "        return True\n",
    "    return not pair(x)\n",
    "\n",
    "print(pair(3))\n",
    "print(impair(3))"
   ]
  },
  {
   "cell_type": "markdown",
   "metadata": {
    "slideshow": {
     "slide_type": "subslide"
    }
   },
   "source": [
    "Mini-exercice : écrivez les [suites femelle et mâle d'Hofstadter](https://en.wikipedia.org/wiki/Hofstadter_sequence#Hofstadter_Female_and_Male_sequences).\n",
    "\n",
    "La suite femelle est définie comme suit :\n",
    "* `F(0) = 1`\n",
    "* `F(n) = n - M(F(n-1))` si `n > 0`\n",
    "\n",
    "La suite mâle est définie comme suit :\n",
    "* `M(0) = 0`\n",
    "* `M(n) = n - F(M(n-1))` si `n > 0`"
   ]
  },
  {
   "cell_type": "code",
   "execution_count": null,
   "metadata": {
    "slideshow": {
     "slide_type": "-"
    }
   },
   "outputs": [],
   "source": [
    "def femelle(n):\n",
    "    \"\"\"La suite femelle d'Hofstadter\"\"\"\n",
    "    pass\n",
    "    # TODO : codez !\n",
    "\n",
    "def male(n):\n",
    "    \"\"\"La suite mâle d'Hofstadter\"\"\"\n",
    "    pass\n",
    "    # TODO : codez !"
   ]
  },
  {
   "cell_type": "markdown",
   "metadata": {
    "slideshow": {
     "slide_type": "subslide"
    }
   },
   "source": [
    "## Récursion terminale"
   ]
  },
  {
   "cell_type": "markdown",
   "metadata": {
    "slideshow": {
     "slide_type": "-"
    }
   },
   "source": [
    "On parle de récursion terminale lorsque la dernière instruction de la fonction est l'appel récursif **et rien d'autre**."
   ]
  },
  {
   "cell_type": "code",
   "execution_count": null,
   "metadata": {
    "slideshow": {
     "slide_type": "-"
    }
   },
   "outputs": [],
   "source": [
    "def factorielle_recursive_non_terminale(n):\n",
    "    \"\"\"La factorielle calculée de manière récursive non terminale.\"\"\"\n",
    "    # factorielle n'est pas définie pour les valeurs négatives, on gère ça de façon sale ici...\n",
    "    if n <= 0:\n",
    "        return 1\n",
    "    else:\n",
    "        return factorielle_recursive_non_terminale(n-1) * n  # pas terminale car on a le \"* n\"\n",
    "\n",
    "factorielle_recursive_non_terminale(5)"
   ]
  },
  {
   "cell_type": "code",
   "execution_count": null,
   "metadata": {
    "slideshow": {
     "slide_type": "-"
    }
   },
   "outputs": [],
   "source": [
    "def factorielle_recursive_terminale(n):\n",
    "    \"\"\"La factorielle calculée de manière récursive terminale.\"\"\"\n",
    "    # factorielle n'est pas définie pour les valeurs négatives, on gère ça de façon sale ici...\n",
    "    def factorielle_aux(n, accumulateur):\n",
    "        \"\"\"Fonction auxilliaire pour effectuer la récursion terminale\"\"\"\n",
    "        if n <= 0:\n",
    "            return accumulateur\n",
    "        else:\n",
    "            return factorielle_aux(n-1, n * accumulateur)  # terminale car il n'y a que l'appel à la fonction\n",
    "    return factorielle_aux(n, 1)\n",
    "\n",
    "factorielle_recursive_terminale(5)"
   ]
  },
  {
   "cell_type": "markdown",
   "metadata": {
    "slideshow": {
     "slide_type": "subslide"
    }
   },
   "source": [
    "Il y a plusieurs intérêts à la récursion terminale :\n",
    "  1. c'est plus léger à gérer pour votre ordinateur\n",
    "  2. on peut mieux gérer \"l'état\" du programme, donc avoir un algorithme plus efficace.\n",
    "  3. **certains** langages optimisent les fonctions récursives terminales en les transformant en fonctions itératives.\n",
    "\n",
    "Le point 3. n'est par exemple pas vrai pour Python. Le BDFL de Python, Guido Van Rossum, l'[a dit](http://neopythonic.blogspot.com/2009/04/tail-recursion-elimination.html), [deux fois](http://neopythonic.blogspot.com/2009/04/final-words-on-tail-calls.html) (pour résumer : ça complique le débogage)."
   ]
  },
  {
   "cell_type": "markdown",
   "metadata": {
    "slideshow": {
     "slide_type": "slide"
    }
   },
   "source": [
    "# Deuxième exemple : la suite de Fibonacci\n",
    "\n",
    "La [suite de Fibonacci](https://fr.wikipedia.org/wiki/Suite_de_Fibonacci) est une suite créée à la base pour évaluer la croissance d'une population de lapins théorique.\n",
    "\n",
    "La suite compte le nombre de couples de lapins *adultes* présents au n-ième mois dans un espace clos (aucune intervention extérieure) :\n",
    "* Au début, on place deux lapereaux, un mâle et une femelle.  \n",
    "* Ces lapereaux mettent un mois pour atteindre l'âge adulte, âge à partir duquel ils donneront une portée tous les mois. Chaque portée sera systématiquement un mâle et une femelle."
   ]
  },
  {
   "cell_type": "markdown",
   "metadata": {
    "slideshow": {
     "slide_type": "subslide"
    }
   },
   "source": [
    "![une image illustrant la suite de Fibonacci](https://upload.wikimedia.org/wikipedia/commons/thumb/7/7a/FibonacciRabbit.svg/1920px-FibonacciRabbit.svg.png)\n",
    "une image illustrant la suite de Fibonacci"
   ]
  },
  {
   "cell_type": "markdown",
   "metadata": {
    "slideshow": {
     "slide_type": "subslide"
    }
   },
   "source": [
    "Maintenant, on va voir l'intérêt d'utiliser la récursion correctement.\n",
    "\n",
    "La suite de Fibonacci s'écrit `F(n)` et se définit comme suit :\n",
    "* `F(n) = 0` si `n == 0`\n",
    "* `F(n) = 1` si `n == 1`\n",
    "* `F(n) = F(n-1) + F(n-2)` sinon\n",
    "\n",
    "Mini-exos :\n",
    "1. Écrivez une fonction `fibo_iterative(n)` qui renvoie `F(n)` de manière itérative\n",
    "2. Écrivez une fonction `fibo_recursive(n)` qui renvoie `F(n)` de manière récursive en suivant la définition plus haut.\n",
    "3. Écrivez une fonction `fibo_terminale(n)` qui renvoie `F(n)` avec une récursion terminale.\n",
    "4. Comparez un peu les performances de 2. et 3., c'est très net !"
   ]
  },
  {
   "cell_type": "code",
   "execution_count": null,
   "metadata": {
    "slideshow": {
     "slide_type": "-"
    }
   },
   "outputs": [],
   "source": [
    "def fibo_iterative(n):\n",
    "    \"\"\"Fibonacci en itératif\"\"\"\n",
    "    pass\n",
    "    # TODO : codez ici !\n",
    "\n",
    "def fibo_recursive(n):\n",
    "    \"\"\"Fibonacci en récursif\"\"\"\n",
    "    pass\n",
    "    # TODO : codez ici !\n",
    "\n",
    "def fibo_terminale(n):\n",
    "    \"\"\"Fibonacci en récursif terminal\"\"\"\n",
    "    pass\n",
    "    # TODO : codez ici !\n",
    "\n",
    "print(fibo_iterative(30))\n",
    "print(fibo_recursive(30))\n",
    "print(fibo_terminale(30))"
   ]
  },
  {
   "cell_type": "markdown",
   "metadata": {
    "slideshow": {
     "slide_type": "subslide"
    }
   },
   "source": [
    "## Mémoïsation\n",
    "\n",
    "La mémoïsation est une technique d'optimisation qui consiste à garder en mémoire les valeurs renvoyées par une fonction.  \n",
    "De cette façon, une valeur n'a à être calculée qu'une seule fois.  \n",
    "Typiquement, pour effectuer la mémoïsation, on utilise un dictionnaire.\n",
    "\n",
    "Écrivez une fonction `fibo_memoization(n)` qui calcule la n-ième terme de la suite de Fibonacci avec une mémoïsation, en suivant le squelette suivant :"
   ]
  },
  {
   "cell_type": "code",
   "execution_count": null,
   "metadata": {
    "slideshow": {
     "slide_type": "-"
    }
   },
   "outputs": [],
   "source": [
    "def fibo_memoization(n):\n",
    "    \"\"\"Calcule F(n) avec mémoïsation\"\"\"\n",
    "    memo = {0:0, 1:1}\n",
    "    def fibo_memo_aux(m):\n",
    "        pass\n",
    "        # TODO: codez ici !\n",
    "    return fibo_memo_aux(n)\n",
    "\n",
    "print(fibo_memoization(50))"
   ]
  },
  {
   "cell_type": "markdown",
   "metadata": {
    "slideshow": {
     "slide_type": "slide"
    }
   },
   "source": [
    "# Une fonction récursive plus compliquée\n",
    "\n",
    "La [fonction d'Ackermann](https://fr.wikipedia.org/wiki/Fonction_d'Ackermann#Définition) est un exemple simple de fonction récursive très facile à écrire de manière récursive, mais moins de manière itérative.  \n",
    "Elle se définit de la manière suivante :\n",
    "* `A(m,n) = n+1` si `m == 0`\n",
    "* `A(m,n) = A(m-1, 1)` si `m > 0` et `n == 0`\n",
    "* `A(m,n) = A(m-1, A(m, n-1))` si `m > 0` et `n > 0`"
   ]
  },
  {
   "cell_type": "code",
   "execution_count": null,
   "metadata": {
    "slideshow": {
     "slide_type": "-"
    }
   },
   "outputs": [],
   "source": [
    "def ackermann(m, n):\n",
    "    \"\"\"La fonction d'Ackermann\"\"\"\n",
    "    pass\n",
    "    # TODO: codez !\n",
    "\n",
    "print(ackermann(0, 0))\n",
    "print(ackermann(3, 1))\n",
    "print(ackermann(3, 7))\n",
    "print(ackermann(4, 1))  # surprise !"
   ]
  },
  {
   "cell_type": "markdown",
   "metadata": {
    "slideshow": {
     "slide_type": "slide"
    }
   },
   "source": [
    "# Exercices\n",
    "\n",
    "1. Un petit exercice qui va [vous permettre de travailler à Google](https://twitter.com/mxcl/status/608682016205344768) (bon, [c'est plus nuancé](https://www.quora.com/Whats-the-logic-behind-Google-rejecting-Max-Howell-the-author-of-Homebrew-for-not-being-able-to-invert-a-binary-tree), mais ça fait une bonne anecdote) !\n",
    "\n",
    "Étant donné un arbre binaire (entier ou complet, **on ne traitera pas les arbres dits dégénérés dans cet exercice**) :"
   ]
  },
  {
   "cell_type": "markdown",
   "metadata": {
    "slideshow": {
     "slide_type": "subslide"
    }
   },
   "source": [
    "![arbres binaires](https://slideplayer.fr/slide/461584/1/images/35/Arbres+binaires+Arbre+binaire+entier+est+un+arbre+dont+tous+les+n%C5%93uds+poss%C3%A8dent+z%C3%A9ro+ou+deux+fils..jpg)"
   ]
  },
  {
   "cell_type": "markdown",
   "metadata": {
    "slideshow": {
     "slide_type": "subslide"
    }
   },
   "source": [
    "En supposant que vous ayez un arbre binaire entier (chaque nœud a 0 ou deux fils), écrivez :\n",
    "\n",
    "1.\n",
    "Une méthode `invert(node)` qui inverse un arbre binaire (renvoie un nouvel arbre binaire)\n",
    "\n",
    "2.\n",
    "Une méthode de `Node` : `__str__(self)` qui va donner une représentation textuelle de votre arbre binaire. On utilisera une représentation parenthésée. Ainsi, l'arbre :\n",
    "\n",
    "```\n",
    "  1\n",
    " / \\\n",
    "2   3\n",
    "```\n",
    "\n",
    "Sera représenté `( 1 2 3 )`\n",
    "\n",
    "et l'arbre :\n",
    "\n",
    "```\n",
    "     1\n",
    "   /   \\\n",
    "  2     3\n",
    " / \\   / \\\n",
    "4   5 6   7\n",
    "```\n",
    "\n",
    "sera représenté `( 1 ( 2 4 5 ) ( 3 6 7 ) )`\n",
    "\n",
    "3.\n",
    "\n",
    "Une fonction `parse_node(s)` qui va lire un arbre binaire **complet** et renvoyer un `Node`"
   ]
  },
  {
   "cell_type": "markdown",
   "metadata": {
    "slideshow": {
     "slide_type": "subslide"
    }
   },
   "source": [
    "Quand on dit inverser, veut dire \"passer ce qu'il y a à gauche à droite, et ce qu'il y a à droite, à gauche\". Par exemple, si on a l'arbre suivant en entrée :\n",
    "\n",
    "```\n",
    "     1\n",
    "   /   \\\n",
    "  2     3\n",
    " / \\   / \\\n",
    "4   5 6   7\n",
    "```\n",
    "\n",
    "On obtiendra :\n",
    "\n",
    "```\n",
    "     1\n",
    "   /   \\\n",
    "  3     2\n",
    " / \\   / \\\n",
    "7   6 5   4\n",
    "```"
   ]
  },
  {
   "cell_type": "code",
   "execution_count": null,
   "metadata": {
    "slideshow": {
     "slide_type": "subslide"
    }
   },
   "outputs": [],
   "source": [
    "class Node:\n",
    "    def __init__(self, value, left=None, right=None):\n",
    "        self.value = value\n",
    "        self.left = left  # Node\n",
    "        self.right = right  # Node\n",
    "\n",
    "    def __eq__(self, other):\n",
    "        \"\"\"On redéfinit la fonction d'égalité pour prendre en compte les arbres correctement.\"\"\"\n",
    "        return self.value == other.value and self.left == other.left and self.right == other.right\n",
    "\n",
    "    def __str__(self):\n",
    "        \"\"\"Donne une représentation textuelle de votre arbre binaire.\"\"\"\n",
    "        pass\n",
    "        # TODO: codez !\n",
    "\n",
    "def invert(node):\n",
    "    \"\"\"Inverse un arbre binaire (renvoie un nouvel arbre binaire)\"\"\"\n",
    "    pass\n",
    "    # TODO: codez !\n",
    "\n",
    "def parse_node(s):\n",
    "    \"\"\"Lit un arbre binaire complet et renvoie un `Node`\"\"\"\n",
    "    pass\n",
    "    # TODO: codez !\n",
    "\n",
    "assert invert(Node(1, Node(2, Node(4), Node(5)), Node(3, Node(6), Node(7)))) == Node(1, Node(3, Node(7), Node(6)), Node(2, Node(5), Node(4)))\n",
    "assert str(Node(1, Node(2), Node(3))) == \"( 1 2 3 )\"\n",
    "assert str(Node(1, Node(2, Node(4), Node(5)), Node(3, Node(6), Node(7)))) == \"( 1 ( 2 4 5 ) ( 3 6 7 ) )\"\n",
    "assert parse_node(\"( 1 2 3 )\") == Node(1, Node(2), Node(3))\n",
    "assert parse_node(\"( 1 ( 2 4 5 ) ( 3 6 7 ) )\") == Node(1, Node(2, Node(4), Node(5)), Node(3, Node(6), Node(7)))\n",
    "print(\"tout est ok\")"
   ]
  }
 ],
 "metadata": {
  "celltoolbar": "Slideshow",
  "kernelspec": {
   "display_name": "Python 3",
   "language": "python",
   "name": "python3"
  },
  "language_info": {
   "codemirror_mode": {
    "name": "ipython",
    "version": 3
   },
   "file_extension": ".py",
   "mimetype": "text/x-python",
   "name": "python",
   "nbconvert_exporter": "python",
   "pygments_lexer": "ipython3",
   "version": "3.7.3"
  },
  "livereveal": {
   "autolaunch": true,
   "scroll": true,
   "transition": "none"
  }
 },
 "nbformat": 4,
 "nbformat_minor": 2
}
