{
 "cells": [
  {
   "cell_type": "markdown",
   "metadata": {},
   "source": [
    "---\n",
    "\n",
    "# Langages de script - Python\n",
    "## Cours 9 — Pip et virtualenv\n",
    "### M2 Ingénierie Multilingue - INaLCO\n",
    "\n",
    "---\n",
    "\n",
    "- Loïc Grobol <loic.grobol@gmail.com>\n",
    "- Yoann Dupont <yoa.dupont@gmail.com>"
   ]
  },
  {
   "cell_type": "markdown",
   "metadata": {
    "slideshow": {
     "slide_type": "slide"
    }
   },
   "source": [
    "# Les modules sont vos amis\n",
    "\n",
    "Rappel des épisodes précédents"
   ]
  },
  {
   "cell_type": "markdown",
   "metadata": {
    "slideshow": {
     "slide_type": "subslide"
    }
   },
   "source": [
    "## Ils cachent vos implémentations\n",
    "\n",
    "- Quand on code une interface, on a pas envie de voir le code fonctionnel\n",
    "- Et vice-versa"
   ]
  },
  {
   "cell_type": "markdown",
   "metadata": {
    "slideshow": {
     "slide_type": "subslide"
    }
   },
   "source": [
    "Ce qu'on fait quand on code proprement (ou presque)"
   ]
  },
  {
   "cell_type": "markdown",
   "metadata": {},
   "source": [
    "```python\n",
    "# malib.py\n",
    "import re\n",
    "\n",
    "def tokenize(s):\n",
    "    return re.split(r\"\\s+\", s)\n",
    "```"
   ]
  },
  {
   "cell_type": "markdown",
   "metadata": {
    "slideshow": {
     "slide_type": "subslide"
    }
   },
   "source": [
    "```python\n",
    "# moninterface.py\n",
    "import sys\n",
    "import malib\n",
    "\n",
    "if __name__ == \"__main__\":\n",
    "    path = sys.argv[1]\n",
    "    with open(path) as in_stream:\n",
    "        for l in in_stream:\n",
    "            print(\"_\".join(list(malib.tokenize(l))))\n",
    "```"
   ]
  },
  {
   "cell_type": "markdown",
   "metadata": {},
   "source": [
    "Comme ça quand je code mon interface, je n'ai pas besoin de me souvenir ou même de voir comment est codé `tokenize`"
   ]
  },
  {
   "cell_type": "markdown",
   "metadata": {
    "slideshow": {
     "slide_type": "subslide"
    }
   },
   "source": [
    "## Il y en a déjà plein"
   ]
  },
  {
   "cell_type": "code",
   "execution_count": null,
   "metadata": {},
   "outputs": [],
   "source": [
    "help(\"modules\")"
   ]
  },
  {
   "cell_type": "markdown",
   "metadata": {
    "slideshow": {
     "slide_type": "subslide"
    }
   },
   "source": [
    "## Ils vous simplifient la vie"
   ]
  },
  {
   "cell_type": "code",
   "execution_count": null,
   "metadata": {},
   "outputs": [],
   "source": [
    "import pathlib\n",
    "\n",
    "p = pathlib.Path(\".\").resolve()\n",
    "display(p)\n",
    "display(list(p.glob(\"*.ipynb\")))\n",
    "projet = p.parent / \"assignments\"\n",
    "display(list(exos.glob(\"*\")))"
   ]
  },
  {
   "cell_type": "markdown",
   "metadata": {
    "slideshow": {
     "slide_type": "slide"
    }
   },
   "source": [
    "# `stdlib` ne suffit plus\n",
    "\n",
    "Parfois la bibliothèque standard est trop limitée"
   ]
  },
  {
   "cell_type": "markdown",
   "metadata": {
    "slideshow": {
     "slide_type": "subslide"
    }
   },
   "source": [
    "Je veux repérer dans un texte toutes les occurences de « omelette » qui ne sont pas précédées par « une »"
   ]
  },
  {
   "cell_type": "code",
   "execution_count": null,
   "metadata": {},
   "outputs": [],
   "source": [
    "text = \"\"\"oui très bien maintenant il reste plus que quelques petites questions pour sit-\n",
    "oui c' était les c' était la dernière chose que je voulais vous demander les Anglais prétendent que même dans les moindres choses y a des différences entre euh la façon de vivre des Français et des Anglais et euh c' est pourquoi euh ils demandent euh ils se demandaient comment en France par exemple on faisait une omelette et s' il y avait des différences entre euh la façon française de faire une omelette et la façon anglaise alors si vous pouviez décrire comment vous vous faites une  omelette ?\n",
    "tout d' abord on m- on casse les oeufs dans un saladier euh on mélange le le blanc et le jaune et puis on on bat avec soit avec une fourchette soit avec un appareil parce qu' il existe des appareils pour battre les oeufs euh vous prenez une poêle vous y mettez du beurre et quand il est fondu euh vous versez l' omelette par dessus euh t- j' ai oublié de dire qu' on mettait du sel et du poivre dans dans les oeufs\n",
    "hm hm ?\n",
    "et quand euh vous avez versé le les oeufs dans la dans la poêle euh vous euh vous quand ça prend consistance vous retournez votre omelette en faisant attention de euh de la retourner comme il faut évidemment qu' elle ne se mette pas en miettes et vous la faites cuire de l' autre côté et pour la présenter on la plie en deux maintenant on peut mettre aussi dans le dans le dans les oeufs euh des fines herbes\"\"\""
   ]
  },
  {
   "cell_type": "code",
   "execution_count": null,
   "metadata": {},
   "outputs": [],
   "source": [
    "import re\n",
    "pattern = r\"(?<!une )omelette\"\n",
    "re.findall(pattern, text)"
   ]
  },
  {
   "cell_type": "markdown",
   "metadata": {
    "slideshow": {
     "slide_type": "subslide"
    }
   },
   "source": [
    "Mais je veux pouvoir le faire même s'il y a plusieurs espaces"
   ]
  },
  {
   "cell_type": "code",
   "execution_count": null,
   "metadata": {},
   "outputs": [],
   "source": [
    "pattern = r\"(?<!une\\s+)omelette\"\n",
    "re.findall(pattern, text)"
   ]
  },
  {
   "cell_type": "markdown",
   "metadata": {
    "slideshow": {
     "slide_type": "subslide"
    }
   },
   "source": [
    "`re` ne permet pas de faire ce genre de choses (un *lookbehind* de taille variable) mais [`regex`](https://pypi.org/project/regex) oui"
   ]
  },
  {
   "cell_type": "code",
   "execution_count": null,
   "metadata": {},
   "outputs": [],
   "source": [
    "import regex\n",
    "pattern = r\"(?<!une\\s+)omelette\"\n",
    "regex.findall(pattern, text)"
   ]
  },
  {
   "cell_type": "markdown",
   "metadata": {
    "slideshow": {
     "slide_type": "slide"
    }
   },
   "source": [
    "## `pip`, le gestionnaire\n",
    "\n",
    "[`pip`](https://pip.pypa.io) est le gestionnaire de paquets intégré à python (sauf sous Debian 😠).\n",
    "Comme tout bon gestionnaire de paquet il sait\n",
    "\n",
    "- Installer un paquet `pip install regex`\n",
    "- Donner des infos `pip show regex`\n",
    "- Le mettre à jour `pip install -U regex`\n",
    "- Le désinstaller `pip uninstall regex`"
   ]
  },
  {
   "cell_type": "markdown",
   "metadata": {
    "slideshow": {
     "slide_type": "subslide"
    }
   },
   "source": [
    "## Pypi, le *cheeseshop*\n",
    "\n",
    "Situé à https://pypi.org, Pypi liste les paquets tiers — conçus et maintenus par la communauté — pour Python.\n",
    "\n",
    "Quand vous demandez à `pip` d'installer un paquet, c'est là qu'il va le chercher par défaut."
   ]
  },
  {
   "cell_type": "code",
   "execution_count": null,
   "metadata": {},
   "outputs": [],
   "source": [
    "!pip search regex"
   ]
  },
  {
   "cell_type": "markdown",
   "metadata": {},
   "source": [
    "Vous pouvez aussi le parcourir dans l'inteface web, c'est un bon point de départ pour éviter de réinventer la roue.\n",
    "\n",
    "Le moteur de pypi est libre et rien ne vous empêche d'héberger votre propre instance, il suffira alors d'utiliser pip avec l'option `--index-url <url>`"
   ]
  },
  {
   "cell_type": "markdown",
   "metadata": {
    "slideshow": {
     "slide_type": "subslide"
    }
   },
   "source": [
    "`pip` sait faire plein d'autres choses et installer depuis beaucoup de sources. Par exemple un dépôt git"
   ]
  },
  {
   "cell_type": "code",
   "execution_count": null,
   "metadata": {},
   "outputs": [],
   "source": [
    "!pip install --force-reinstall git+https://github.com/psf/requests.git"
   ]
  },
  {
   "cell_type": "markdown",
   "metadata": {
    "slideshow": {
     "slide_type": "slide"
    }
   },
   "source": [
    "# Les choses désagréables\n",
    "\n",
    "Il y a des choses pour lesquelles `pip` n'est pas bon"
   ]
  },
  {
   "cell_type": "markdown",
   "metadata": {
    "slideshow": {
     "slide_type": "subslide"
    }
   },
   "source": [
    "## Résoudre des conflits de dépendances"
   ]
  },
  {
   "cell_type": "code",
   "execution_count": null,
   "metadata": {},
   "outputs": [],
   "source": [
    "!pip install -U --force-reinstall botocore==1.13.9 python-dateutil>=2.1"
   ]
  },
  {
   "cell_type": "markdown",
   "metadata": {
    "slideshow": {
     "slide_type": "fragment"
    }
   },
   "source": [
    "[Mais plus pour longtemps !](https://github.com/pypa/pip/issues/988)"
   ]
  },
  {
   "cell_type": "markdown",
   "metadata": {
    "slideshow": {
     "slide_type": "subslide"
    }
   },
   "source": [
    "##Checker ses privilèges\n",
    "\n",
    "```bash\n",
    "$ pip install regex\n",
    "ERROR: Could not install packages due to an EnvironmentError: [Errno 13] Permission denied: '/usr/local/lib/python2.7/dist-packages/\n",
    "```"
   ]
  },
  {
   "cell_type": "markdown",
   "metadata": {
    "slideshow": {
     "slide_type": "fragment"
    }
   },
   "source": [
    "Un remède simple : n'installer que pour soi\n",
    "\n",
    "```bash\n",
    "$ pip install --user regex\n",
    "Successfully installed regex-2019.11.1\n",
    "```"
   ]
  },
  {
   "cell_type": "markdown",
   "metadata": {
    "slideshow": {
     "slide_type": "subslide"
    }
   },
   "source": [
    "## Répondre quand on l'appelle\n",
    "\n",
    "Ou plutôt c'est python qui a un souci\n",
    "\n",
    "```bash\n",
    "$ pip install --user regex\n",
    "Successfully installed regex-2019.11.1\n",
    "$ python3 -c \"import regex;print(regex.__version__)\"\n",
    "ModuleNotFoundError: No module named 'regex\n",
    "```"
   ]
  },
  {
   "cell_type": "markdown",
   "metadata": {
    "slideshow": {
     "slide_type": "subslide"
    }
   },
   "source": [
    "```bash\n",
    "$ pip --version\n",
    "pip 19.3.1 from /home/lgrobol/.local/lib/python3.8/site-packages/pip (python 3.8)\n",
    "$ python3 --version\n",
    "Python 3.7.5rc1\n",
    "```"
   ]
  },
  {
   "cell_type": "markdown",
   "metadata": {},
   "source": [
    "La solution : exiger le bon python\n",
    "\n",
    "```bash\n",
    "$ python3 -m pip install --user regex\n",
    "Successfully installed regex-2019.11.1\n",
    "$ python3 -c \"import regex;print(regex.__version__)\"\n",
    "2.5.65\n",
    "```"
   ]
  },
  {
   "cell_type": "markdown",
   "metadata": {
    "slideshow": {
     "slide_type": "slide"
    }
   },
   "source": [
    "# Freeze!\n",
    "\n",
    "Une fonction importante de `pip` est la capacité de geler les versions des paquets installés et de les restorer"
   ]
  },
  {
   "cell_type": "code",
   "execution_count": null,
   "metadata": {},
   "outputs": [],
   "source": [
    "!pip freeze"
   ]
  },
  {
   "cell_type": "markdown",
   "metadata": {},
   "source": [
    "(Traditionellement, pour les sauvegarder: `pip freeze > requirements.txt`)\n",
    "\n",
    "Il est **fortement** recommandé de le faire quand on lance une expérience pour pouvoir la reproduire dans les mêmes conditions si besoin."
   ]
  },
  {
   "cell_type": "markdown",
   "metadata": {
    "slideshow": {
     "slide_type": "fragment"
    }
   },
   "source": [
    "Pour restorer les mêmes versions\n",
    "\n",
    "```bash\n",
    "pip install -r requirements.txt\n",
    "```\n",
    "\n",
    "(éventuellement avec `-U` et `--force-reinstall` en plus et bien sûr `--user`)\n",
    "\n",
    "On peut aussi écrire des `requirements.txt` à la main pour préciser les dépendances d'un projet"
   ]
  },
  {
   "cell_type": "code",
   "execution_count": null,
   "metadata": {},
   "outputs": [],
   "source": [
    "!cat ../requirements.txt"
   ]
  },
  {
   "cell_type": "markdown",
   "metadata": {
    "slideshow": {
     "slide_type": "slide"
    }
   },
   "source": [
    "# `virtualenv`\n",
    "\n",
    "À force d'installer tout et n'importe quoi, il finit fatalement par arriver que\n",
    "\n",
    "- Des paquets que vous utilisez dans des projets séparés aient des conflits de version\n",
    "- Vous passiez votre temps à installer depuis des `requirements.txt`\n",
    "- Vos `requirements.txt` soient soit incomplets soit trop complets\n",
    "\n",
    "Et arrive la conclusion"
   ]
  },
  {
   "cell_type": "markdown",
   "metadata": {
    "slideshow": {
     "slide_type": "fragment"
    }
   },
   "source": [
    "**En fait il me faudrait une installation différente de python pour chaque projet !**"
   ]
  },
  {
   "cell_type": "markdown",
   "metadata": {
    "slideshow": {
     "slide_type": "fragment"
    }
   },
   "source": [
    "Et c'est précisément ce qu'on va faire"
   ]
  },
  {
   "cell_type": "code",
   "execution_count": null,
   "metadata": {
    "slideshow": {
     "slide_type": "subslide"
    }
   },
   "outputs": [],
   "source": [
    "!pip install virtualenv"
   ]
  },
  {
   "cell_type": "markdown",
   "metadata": {
    "slideshow": {
     "slide_type": "subslide"
    }
   },
   "source": [
    "## Comment ?\n",
    "\n",
    "- Placez-vous dans un répertoire vide\n",
    "\n",
    "```bash\n",
    "mkdir -p ~/tmp/python-im-test/cours-9 && cd ~/tmp/python-im-test/cours-9\n",
    "```\n",
    "\n",
    "- Entrez\n",
    "\n",
    "```bash\n",
    "python3 -m virtualenv .virtenv\n",
    "```\n",
    "\n",
    "- Vous avez créé un environnement virtuel \\o/ activez-le\n",
    "\n",
    "```bash\n",
    "source .virtenv/bin/activate\n",
    "```"
   ]
  },
  {
   "cell_type": "markdown",
   "metadata": {
    "slideshow": {
     "slide_type": "subslide"
    }
   },
   "source": [
    "## Et alors ?"
   ]
  },
  {
   "cell_type": "markdown",
   "metadata": {
    "slideshow": {
     "slide_type": "fragment"
    }
   },
   "source": [
    "```bash\n",
    "$ pip list\n",
    "Package    Version\n",
    "---------- -------\n",
    "pip        19.3.1 \n",
    "setuptools 41.6.0 \n",
    "wheel      0.33.6\n",
    "```"
   ]
  },
  {
   "cell_type": "markdown",
   "metadata": {
    "slideshow": {
     "slide_type": "fragment"
    }
   },
   "source": [
    "Alors vous avez ici une installation isolée du reste !"
   ]
  },
  {
   "cell_type": "markdown",
   "metadata": {
    "slideshow": {
     "slide_type": "subslide"
    }
   },
   "source": [
    "```bash\n",
    "wget https://raw.githubusercontent.com/LoicGrobol/python-im-2/master/requirements.txt\n",
    "pip install -r requirements.txt\n",
    "```"
   ]
  },
  {
   "cell_type": "markdown",
   "metadata": {
    "slideshow": {
     "slide_type": "fragment"
    }
   },
   "source": [
    "Et maintenant vous avez tous les paquets utilisés dans ce cours. En bonus\n",
    "\n",
    "- `pip` est le bon `pip`\n",
    "- `python` est le bon `python`\n",
    "- Tout ce que vous faites avec python n'agira que sur `.virtenv`, votre système reste propre !\n",
    "\n",
    "En particulier, si rien ne va plus, il suffit de supprimer `.virtenv`"
   ]
  },
  {
   "cell_type": "markdown",
   "metadata": {
    "slideshow": {
     "slide_type": "subslide"
    }
   },
   "source": [
    "## `virtualenv` vs `venv`\n",
    "\n",
    "Il existe dans la distribution standard (sauf pour Debian 🙃) le module `venv` et un module tiers `virtualenv`.\n",
    "\n",
    "`venv` est essentiellement une version minimale de `virtualenv` avec uniquement les fonctionalités strictement nécéssaires. En pratique on a rarement besoin de plus **sauf** quand on veut installer plusieurs versions de python en parallèle."
   ]
  },
  {
   "cell_type": "markdown",
   "metadata": {
    "slideshow": {
     "slide_type": "slide"
    }
   },
   "source": [
    "# Comment travailler proprement\n",
    "\n",
    "À partir de maintenant vous pouvez (et je vous recommande de)\n",
    "\n",
    "- **Toujours** travailler dans un virtualenv\n",
    "- **Toujours** lister vos dépendances tierces dans un requirements.txt\n",
    "- **Toujours** `pip freeze`er les versions exactes pour vos expés (dans un `frozen-requirements.txt` par exemple.\n",
    "- **Dès qu'un test se transforme en projet** en faire un dépôt git"
   ]
  },
  {
   "cell_type": "markdown",
   "metadata": {
    "slideshow": {
     "slide_type": "subslide"
    }
   },
   "source": [
    "Si vous travaillez avec `git` et `virtualenv` dans le même dossier pensez à ajouter le nom du dossier de votre environnement dans un `.gitignore`"
   ]
  },
  {
   "cell_type": "markdown",
   "metadata": {},
   "source": [
    "```gitignore\n",
    "# .gitignore\n",
    ".virtenv\n",
    "__pycache__/\n",
    "…\n",
    "```"
   ]
  },
  {
   "cell_type": "markdown",
   "metadata": {},
   "source": [
    "(Les gens de github ont des .gitingore tout faits, [celui pour Python](https://github.com/github/gitignore/blob/master/Python.gitignore) utilise `.venv` mais c'est moyen d'utiliser le nom d'un module pour un dossier)"
   ]
  },
  {
   "cell_type": "markdown",
   "metadata": {
    "slideshow": {
     "slide_type": "subslide"
    }
   },
   "source": [
    "**Maintenant allez-y, faites ça dans vos dossiers de projets !**"
   ]
  }
 ],
 "metadata": {
  "celltoolbar": "Slideshow",
  "kernelspec": {
   "display_name": "Python 3",
   "language": "python",
   "name": "python3"
  },
  "language_info": {
   "codemirror_mode": {
    "name": "ipython",
    "version": 3
   },
   "file_extension": ".py",
   "mimetype": "text/x-python",
   "name": "python",
   "nbconvert_exporter": "python",
   "pygments_lexer": "ipython3",
   "version": "3.7.3"
  }
 },
 "nbformat": 4,
 "nbformat_minor": 2
}
