{
 "cells": [
  {
   "cell_type": "markdown",
   "metadata": {},
   "source": [
    "---\n",
    "\n",
    "# Langages de script - Python\n",
    "## Cours 8.1 — Exercices\n",
    "### M2 Ingénierie Multilingue - INaLCO\n",
    "\n",
    "---\n",
    "\n",
    "- Loïc Grobol <loic.grobol@gmail.com>\n",
    "- Yoann Dupont <yoa.dupont@gmail.com>"
   ]
  },
  {
   "cell_type": "markdown",
   "metadata": {},
   "source": [
    "## Un peu de classe\n",
    "\n",
    "**Note** si vous modifiez des cellules pour une question, assurez vous que ça ne casse pas vos solutions pour les questions précédentes, n'hésitez pas à relancer tous le notebook pour vous en assurer.\n",
    "\n",
    "Voici une classe `Word` de base qui représente un mot (avec pas beaucoup de features)."
   ]
  },
  {
   "cell_type": "code",
   "execution_count": null,
   "metadata": {},
   "outputs": [],
   "source": [
    "class Word:\n",
    "    \"\"\"Un mot dans un texte\"\"\"\n",
    "    def __init__(self, form):\n",
    "        self.form = form\n",
    "    \n",
    "    def to_string(self):\n",
    "        \"\"\"Renvoie une représenation sous forme de chaîne de caractères\n",
    "        \n",
    "        >>> w = Word(\"spam\")\n",
    "        >>> w.to_string()\n",
    "        \"spam\"\n",
    "        \"\"\"\n",
    "        return self.form\n",
    "\n",
    "    def is_same(self, other):\n",
    "        \"\"\"Vérifie si `self` et `other` (un autre mot) ont la même forme\"\"\"\n",
    "        return self.form == other.form\n",
    "\n",
    "w = Word(\"tofu\")\n",
    "print(w.to_string())\n",
    "\n",
    "x = Word(\"tofu\")\n",
    "print(w is x)  # Ce n'est pas le même objet\n",
    "print(w.is_same(x))\n"
   ]
  },
  {
   "cell_type": "markdown",
   "metadata": {},
   "source": [
    "1. À vous d'écrire une classe `Sentence` qui s'initialise à partir d'une liste de `Word` et a elle aussi une méthode `to_string` qui renvoie une représentation qui va bien et une méthode `is_same` pour vérifier qu'elle a le même contenu qu'une autre phrase."
   ]
  },
  {
   "cell_type": "code",
   "execution_count": null,
   "metadata": {},
   "outputs": [],
   "source": [
    "class Sentence:\n",
    "    \"\"\"Une phrase\"\"\"\n",
    "\n",
    "    def to_string(self):\n",
    "        \"\"\"Renvoie une représentation sous forme de chaîne de caractères\n",
    "        \n",
    "        >>> s = Sentence([Word(token) for token in \"we are the knights who say Ni !\".split()])\n",
    "        >>> s.to_string()\n",
    "        \"we are the knights who say Ni !\"\n",
    "        \"\"\"\n",
    "        # À vous de l'écrire\n",
    "        pass\n",
    "\n",
    "    def is_same(self, other):\n",
    "        pass"
   ]
  },
  {
   "cell_type": "code",
   "execution_count": null,
   "metadata": {},
   "outputs": [],
   "source": [
    "s = Sentence([Word(token) for token in \"we are the knights who say Ni !\".split()])\n",
    "print(s.to_string())\n",
    "\n",
    "t = Sentence([Word(token) for token in [\"we\", \"are\", \"the\", \"knights\", \"who\", \"say\", \"Ni\", \"!\"]])\n",
    "print(t is s)\n",
    "print(t.is_same(s))"
   ]
  },
  {
   "cell_type": "markdown",
   "metadata": {},
   "source": [
    "Les morceaux de code dans les docstrings sont des [doctests](https://docs.python.org/3/library/doctest.html), c'est une façon de combiner de la documentation et des tests au même endroit, on en trouve plus trop dans la nature aujoud'hui mais ce fut assez pratique et élégant dans une époque lointaine et plus civilisée."
   ]
  },
  {
   "cell_type": "markdown",
   "metadata": {},
   "source": [
    "3. Créez une classe `Span` qui représentera des empans de texte et modifiez la classe `Sentence` pour que l'exemple ci-dessous marche"
   ]
  },
  {
   "cell_type": "code",
   "execution_count": null,
   "metadata": {},
   "outputs": [],
   "source": [
    "class Span:\n",
    "    \"\"\"Un empan de texte\"\"\"\n",
    "    pass\n",
    "\n",
    "sp = Span([Word(\"knights\"), Word(\"who\"), Word(\"say\")])\n",
    "assert sp.to_string() == \"knights who say\"\n",
    "sp.is_same(s.slice(3, 6))"
   ]
  },
  {
   "cell_type": "markdown",
   "metadata": {},
   "source": [
    "**Note** Do not Repeat Yourself est un bon conseil"
   ]
  },
  {
   "cell_type": "markdown",
   "metadata": {},
   "source": [
    "4. Maintenant que vous êtes des pythonista aguerri⋅e⋅s on va pouvoir faire du code moins moche: transformez les classes précédentes pour que le code suivant marche"
   ]
  },
  {
   "cell_type": "code",
   "execution_count": null,
   "metadata": {},
   "outputs": [],
   "source": [
    "assert str(w) == \"tofu\""
   ]
  },
  {
   "cell_type": "code",
   "execution_count": null,
   "metadata": {},
   "outputs": [],
   "source": [
    "assert w == x"
   ]
  },
  {
   "cell_type": "code",
   "execution_count": null,
   "metadata": {},
   "outputs": [],
   "source": [
    "assert str(s) == \"we are the knights who say Ni !\""
   ]
  },
  {
   "cell_type": "code",
   "execution_count": null,
   "metadata": {},
   "outputs": [],
   "source": [
    "assert s == t"
   ]
  },
  {
   "cell_type": "code",
   "execution_count": null,
   "metadata": {},
   "outputs": [],
   "source": [
    "sq = s[3:6]\n",
    "assert sq == sp"
   ]
  },
  {
   "cell_type": "markdown",
   "metadata": {},
   "source": [
    "5. Une dernière subtilité, comme c'est fatigant de construire une `Sentence` à la mano, faites marcher cette cellule"
   ]
  },
  {
   "cell_type": "code",
   "execution_count": null,
   "metadata": {},
   "outputs": [],
   "source": [
    "u = Sentence.from_string(\"we are the knights who say Ni !\")\n",
    "assert u == s"
   ]
  }
 ],
 "metadata": {
  "kernelspec": {
   "display_name": "Python 3",
   "language": "python",
   "name": "python3"
  },
  "language_info": {
   "codemirror_mode": {
    "name": "ipython",
    "version": 3
   },
   "file_extension": ".py",
   "mimetype": "text/x-python",
   "name": "python",
   "nbconvert_exporter": "python",
   "pygments_lexer": "ipython3",
   "version": "3.7.5rc1"
  }
 },
 "nbformat": 4,
 "nbformat_minor": 2
}
