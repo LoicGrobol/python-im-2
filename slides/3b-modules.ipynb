{
 "cells": [
  {
   "cell_type": "markdown",
   "metadata": {
    "slideshow": {
     "slide_type": "slide"
    }
   },
   "source": [
    "# Langages de script - Python\n",
    "## Cours 3b - modules\n",
    "### M2 Ingénierie Multilingue - INaLCO\n",
    "\n",
    "- Loïc Grobol <loic.grobol@gmail.com>\n",
    "- Yoann Dupont <yoa.dupont@gmail.com>\n"
   ]
  },
  {
   "cell_type": "markdown",
   "metadata": {
    "slideshow": {
     "slide_type": "slide"
    }
   },
   "source": [
    "# Les fonctions c'est bien\n",
    "\n",
    "Quand on réutilise plusieurs fois le même morceau de code, c'est pratique de ne pas avoir à se répéter"
   ]
  },
  {
   "cell_type": "code",
   "execution_count": null,
   "metadata": {
    "slideshow": {
     "slide_type": "subslide"
    }
   },
   "outputs": [],
   "source": [
    "def un_truc_long_à_écrire(s):\n",
    "    res_lst = []\n",
    "    for c in s:\n",
    "        if c.islower():\n",
    "            res_lst.append(((ord(c) - 84) % 26) + 97)\n",
    "        elif c.isupper():\n",
    "            res_lst.append(((ord(c) - 52) % 26) + 65)\n",
    "        else:\n",
    "            res_lst.append(ord(c))\n",
    "    return \"\".join([chr(x) for x in res_lst])"
   ]
  },
  {
   "cell_type": "code",
   "execution_count": null,
   "metadata": {},
   "outputs": [],
   "source": [
    "un_truc_long_à_écrire(\"Arire tbaan tvir lbh hc\")"
   ]
  },
  {
   "cell_type": "code",
   "execution_count": null,
   "metadata": {},
   "outputs": [],
   "source": [
    "un_truc_long_à_écrire(\"Arire tbaan yrg lbh qbja\")"
   ]
  },
  {
   "cell_type": "markdown",
   "metadata": {
    "slideshow": {
     "slide_type": "subslide"
    }
   },
   "source": [
    "C'est aussi pratique pour séparer des morceaux de code qui font des choses différentes"
   ]
  },
  {
   "cell_type": "code",
   "execution_count": null,
   "metadata": {},
   "outputs": [],
   "source": [
    "²from collections import Counter\n",
    "\n",
    "def most_common(lst, n):\n",
    "    \"\"\"Renvoie les n éléments les plus fréquents de lst\"\"\"\n",
    "    counts = Counter(lst)\n",
    "    sorted_by_freq = sorted(counts.keys(), key=counts.get, reverse=True)\n",
    "    return sorted_by_freq[:n]\n",
    "\n",
    "def keep_only_10_most_common(s):\n",
    "    \"\"\"Ne garder que les 10 éléments les plus communs de s\"\"\"\n",
    "    keep = most_common(s, 10)\n",
    "    res = []\n",
    "    for c in s:\n",
    "        if c in keep:\n",
    "            res.append(c)\n",
    "        else:\n",
    "            res.append(\"_\")\n",
    "    return \"\".join(res)\n",
    "\n",
    "keep_only_10_most_common(\"Aujourd’hui, maman est morte. Ou peut-être hier, je ne sais pas. J’ai reçu un télégramme de l’asile : « Mère décédée. Enterrement demain. Sentiments distingués. » Cela ne veut rien dire. C’était peut-être hier.\")"
   ]
  },
  {
   "cell_type": "markdown",
   "metadata": {
    "slideshow": {
     "slide_type": "subslide"
    }
   },
   "source": [
    "## Pour vivre heureux, cachons le code\n",
    "\n",
    "Cette division du code en morceaux plus petits et autonomes s'appelle *séparation des préoccupations*.\n",
    "\n",
    "**Principe** : chaque fonction doit faire une chose et une seule en étant la plus générique possible.\n",
    "\n",
    "Par exemple, peu importe que je n'applique `most_common` que sur des chaînes de caractères ici, elle marcherait pour n'importe quel itérable"
   ]
  },
  {
   "cell_type": "markdown",
   "metadata": {
    "slideshow": {
     "slide_type": "subslide"
    }
   },
   "source": [
    "- Je ne m'occupe que d'une chose à la fois\n",
    "- Je ne m'encombre pas l'esprit avec des informations qui ne concernent pas cette chose\n",
    "- Quand j'utilise ma fonction, je ne me soucie plus de comment elle a été écrite (et l'implémentation est donc facile à changer)\n",
    "- Accessoirement, je ne pollue pas l'espace de nom avec des variables qui ne serviront plus\n",
    "\n",
    "On rejoint le concept d'API, dont on reparlera"
   ]
  },
  {
   "cell_type": "markdown",
   "metadata": {
    "slideshow": {
     "slide_type": "slide"
    }
   },
   "source": [
    "# Les modules\n",
    "\n",
    "1. Ouvrez votre éditeur de texte préféré\n",
    "2. Créez un nouveau fichier (dans un dossier vide, pour la suite)\n",
    "3. Enregistrez le sous le nom `libspam.py`\n",
    "4. Voilà, vous avez créé un module"
   ]
  },
  {
   "cell_type": "markdown",
   "metadata": {
    "slideshow": {
     "slide_type": "subslide"
    }
   },
   "source": [
    "## Qu'est ce qu'un module ?\n",
    "\n",
    "Techniquement, n'importe quel fichier portant l'extension `.py` et ne comprenant que du code interprétable par Python est un module.\n",
    "\n",
    "Jusque là ça n'a pas l'air très intéressant."
   ]
  },
  {
   "cell_type": "markdown",
   "metadata": {
    "slideshow": {
     "slide_type": "subslide"
    }
   },
   "source": [
    "1. Dans votre fichier `libspam.py`, insérez le code suivant\n",
    "  ```python\n",
    "  def sing():\n",
    "        print(\"spam, spam, lovely spam!\")\n",
    "  ```\n",
    "2. Créez un fichier `spam.py` **dans le même dossier** et insérez-y\n",
    "  ```python\n",
    "  import libspam\n",
    "  libspam.sing()\n",
    "  ```\n",
    "3. Exécutez `spam.py` (`python3 spam.py`)"
   ]
  },
  {
   "cell_type": "markdown",
   "metadata": {
    "slideshow": {
     "slide_type": "subslide"
    }
   },
   "source": [
    "## Pourquoi ?\n",
    "\n",
    "C'est le niveau suivant de séparation des préoccupations : du code autonome dans un fichier différent\n",
    "\n",
    "→ Non seulement vous n'avez pas besoin de **penser** au code mais vous n'avez même pas à le **voir**\n",
    "\n",
    "Vous pouvez même garder les mêmes modules d'un projet à l'autre, plus de copier-coller de code sauvage entre vos projets !\n",
    "\n",
    "Mieux : vous pouvez plus facilement partager du code avec d'autres et utiliser le leur (on y reviendra)"
   ]
  },
  {
   "cell_type": "markdown",
   "metadata": {
    "slideshow": {
     "slide_type": "slide"
    }
   },
   "source": [
    "# Utiliser des modules\n",
    "\n",
    "Vous utilisez depuis longtemps des modules : ceux de la bibliothèque standard par exemple"
   ]
  },
  {
   "cell_type": "code",
   "execution_count": null,
   "metadata": {},
   "outputs": [],
   "source": [
    "import re\n",
    "\n",
    "re.sub(r\"[^aàæeéèêëiîïoôœuûüyÿ]\", \"\", \"longtemps je me suis couché de bonne heure\")"
   ]
  },
  {
   "cell_type": "markdown",
   "metadata": {
    "slideshow": {
     "slide_type": "subslide"
    }
   },
   "source": [
    "Du point de vue *interne* (dans votre code), un module est un *objet* qui apparaît dans votre code grâce à une invocation de `import`"
   ]
  },
  {
   "cell_type": "code",
   "execution_count": null,
   "metadata": {},
   "outputs": [],
   "source": [
    "import sys\n",
    "\n",
    "type(sys)"
   ]
  },
  {
   "cell_type": "markdown",
   "metadata": {
    "slideshow": {
     "slide_type": "subslide"
    }
   },
   "source": [
    "C'est un objet essentiellement normal, qui possède des propriétés et des méthodes, qui sont celles définies dans le fichier `.py` correspondant"
   ]
  },
  {
   "cell_type": "code",
   "execution_count": null,
   "metadata": {},
   "outputs": [],
   "source": [
    "dir(re)"
   ]
  },
  {
   "cell_type": "markdown",
   "metadata": {
    "slideshow": {
     "slide_type": "subslide"
    }
   },
   "source": [
    "Par convention, ici comme ailleurs, les membres à usage privé (que vous n'êtes pas censés utilisés commencent par un underscore"
   ]
  },
  {
   "cell_type": "code",
   "execution_count": null,
   "metadata": {},
   "outputs": [],
   "source": [
    "[m for m in dir(re) if m.startswith(\"_\")]"
   ]
  },
  {
   "cell_type": "markdown",
   "metadata": {
    "slideshow": {
     "slide_type": "subslide"
    }
   },
   "source": [
    "Les membres entourés d'underscores (comme `__file__`), ou *dunders* sont des membres traités par le langage de façon particulière."
   ]
  },
  {
   "cell_type": "code",
   "execution_count": null,
   "metadata": {
    "slideshow": {
     "slide_type": "fragment"
    }
   },
   "outputs": [],
   "source": [
    "re.__file__"
   ]
  },
  {
   "cell_type": "markdown",
   "metadata": {},
   "source": [
    "Par exemple `__file__` n'est pas défini dans `re.py` mais est affecté au moment de `import re`"
   ]
  },
  {
   "cell_type": "markdown",
   "metadata": {
    "slideshow": {
     "slide_type": "slide"
    }
   },
   "source": [
    "# `import`\n",
    "\n",
    "La commande `import` est l'une des plus importantes commandes de python. Quand elle est invoquée comme `import machin`, Python\n",
    "\n",
    "1. Cherche dans les dossiers de modules un fichier nommé `machin.py`\n",
    "2. Exécute le code qu'il contient\n",
    "3. Rend disponible les objets qui en résultent en les leur donnant le nom `machin.<bidule>` où `<bidule>` est le nom de l'objet dans `machin`\n",
    "\n",
    "Autrement dit, si vous avec `truc = 1` dans `machin.py`, quand vous importez `machin`, vous avec `machin.truc` avec la valeur `1`."
   ]
  },
  {
   "cell_type": "markdown",
   "metadata": {
    "slideshow": {
     "slide_type": "subslide"
    }
   },
   "source": [
    "## Importer des modules\n",
    "\n",
    "**Où** Python va chercher les modules et comment il les nomme est un sujet complexe et on ne traitera pas tout, cependant\n",
    "\n",
    "- Les modules qui se trouvent dans le même dossier que votre script sont directement importables\n",
    "- Les modules présent dans le `PYTHONPATH` sont directement importables"
   ]
  },
  {
   "cell_type": "code",
   "execution_count": null,
   "metadata": {},
   "outputs": [],
   "source": [
    "import sys\n",
    "sys.path"
   ]
  },
  {
   "cell_type": "markdown",
   "metadata": {
    "slideshow": {
     "slide_type": "subslide"
    }
   },
   "source": [
    "On peut également importer des modules qui se trouvent dans des sous-dossier du dossier de script.\n",
    "\n",
    "Si par exemple vous avez l'aborescence suivante\n",
    "\n",
    "```\n",
    ".\n",
    "├── script.py\n",
    "└── spam\n",
    "    ├── ham.py\n",
    "    └── __init__.py\n",
    "```\n",
    "\n",
    "Alors `ham.py` peut s'importer dans `script.py` en utilisant la commande\n",
    "\n",
    "```python\n",
    "import spam.ham\n",
    "```\n",
    "\n",
    "Et sera disponible sous le nom `spam.ham`. Par exemple dans la bibliothèque standard vous trouverez `sys.path` sur ce modèle."
   ]
  },
  {
   "cell_type": "markdown",
   "metadata": {
    "slideshow": {
     "slide_type": "subslide"
    }
   },
   "source": [
    "## Imports avancés\n",
    "\n",
    "Si vous n'aimez pas le nom d'un module, vous pouvez l'importer sous un autre nom avec `import … as …`"
   ]
  },
  {
   "cell_type": "code",
   "execution_count": null,
   "metadata": {},
   "outputs": [],
   "source": [
    "import numpy as np\n",
    "\n",
    "np.max([1,7,3])"
   ]
  },
  {
   "cell_type": "markdown",
   "metadata": {},
   "source": [
    "Ce qui peut être utile pour les noms à rallonge"
   ]
  },
  {
   "cell_type": "code",
   "execution_count": null,
   "metadata": {},
   "outputs": [],
   "source": [
    "import matplotlib.pyplot as plt"
   ]
  },
  {
   "cell_type": "markdown",
   "metadata": {
    "slideshow": {
     "slide_type": "subslide"
    }
   },
   "source": [
    "Vous pouvez aussi n'importer que ce que vous intéresse avec `from … import …`"
   ]
  },
  {
   "cell_type": "code",
   "execution_count": null,
   "metadata": {},
   "outputs": [],
   "source": [
    "from re import sub\n",
    "sub(r\"[aeiou]\", \"💓\", \"Plurital\")"
   ]
  },
  {
   "cell_type": "markdown",
   "metadata": {},
   "source": [
    "Ce qui concerne à la fois les membres des modules et les sous-modules."
   ]
  },
  {
   "cell_type": "markdown",
   "metadata": {
    "slideshow": {
     "slide_type": "slide"
    }
   },
   "source": [
    "# Exercice\n",
    "\n",
    "Créer un fichier tel que quand on le place dans le même dossier que `fixme.py` et qu'on exécute la commande `python3 fixme.py` aucune erreur ne se produit.\n",
    "\n",
    "*Bien évidemment, vous ne devez pas modifier `fixme.py` mais il est préférable de le lire. Il y a beaucoup de solutions possibles.*"
   ]
  }
 ],
 "metadata": {
  "celltoolbar": "Slideshow",
  "kernelspec": {
   "display_name": "Python 3",
   "language": "python",
   "name": "python3"
  },
  "language_info": {
   "codemirror_mode": {
    "name": "ipython",
    "version": 3
   },
   "file_extension": ".py",
   "mimetype": "text/x-python",
   "name": "python",
   "nbconvert_exporter": "python",
   "pygments_lexer": "ipython3",
   "version": "3.7.3"
  },
  "livereveal": {
   "autolaunch": true,
   "scroll": true,
   "transition": "none"
  }
 },
 "nbformat": 4,
 "nbformat_minor": 2
}
