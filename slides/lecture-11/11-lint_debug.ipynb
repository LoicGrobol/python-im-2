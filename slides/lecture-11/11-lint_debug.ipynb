{
 "cells": [
  {
   "cell_type": "markdown",
   "metadata": {},
   "source": [
    "---\n",
    "\n",
    "# Langages de script - Python\n",
    "## Cours 11 — Linters et débuggeurs\n",
    "### M2 Ingénierie Multilingue - INaLCO\n",
    "\n",
    "---\n",
    "\n",
    "- Loïc Grobol <loic.grobol@gmail.com>\n",
    "- Yoann Dupont <yoa.dupont@gmail.com>"
   ]
  },
  {
   "cell_type": "markdown",
   "metadata": {},
   "source": [
    "## Factorielle\n",
    "\n",
    "**Rappel** la fonction « factorielle » est définie par\n",
    "\n",
    "$$\\text{factorielle}(n) = 1×2×…×n$$"
   ]
  },
  {
   "cell_type": "code",
   "execution_count": 1,
   "metadata": {},
   "outputs": [
    {
     "data": {
      "text/plain": [
       "362880"
      ]
     },
     "execution_count": 1,
     "metadata": {},
     "output_type": "execute_result"
    }
   ],
   "source": [
    "import math\n",
    "\n",
    "math.factorial(9)"
   ]
  },
  {
   "cell_type": "code",
   "execution_count": 2,
   "metadata": {},
   "outputs": [
    {
     "data": {
      "text/plain": [
       "40320"
      ]
     },
     "execution_count": 2,
     "metadata": {},
     "output_type": "execute_result"
    }
   ],
   "source": [
    "def factorial(n):\n",
    "    if n == 0:\n",
    "        return 1\n",
    "    res = 1\n",
    "    for i in range(1, n):\n",
    "        res = i * res\n",
    "    return res\n",
    "    \n",
    "factorial(9)"
   ]
  },
  {
   "cell_type": "markdown",
   "metadata": {},
   "source": [
    "On a clairement un problème, mais où ?"
   ]
  },
  {
   "cell_type": "markdown",
   "metadata": {},
   "source": [
    "Pour le savoir on peut par exemple insérer un `print` dans la boucle pour voir ce qui se passe pendant l'exécution."
   ]
  },
  {
   "cell_type": "code",
   "execution_count": 3,
   "metadata": {},
   "outputs": [
    {
     "name": "stdout",
     "output_type": "stream",
     "text": [
      "1 1\n",
      "1 2\n",
      "2 3\n",
      "6 4\n",
      "24 5\n",
      "120 6\n",
      "720 7\n",
      "5040 8\n"
     ]
    },
    {
     "data": {
      "text/plain": [
       "40320"
      ]
     },
     "execution_count": 3,
     "metadata": {},
     "output_type": "execute_result"
    }
   ],
   "source": [
    "def factorial(n):\n",
    "    if n == 0:\n",
    "        return 1\n",
    "    res = 1\n",
    "    for i in range(1, n):\n",
    "        print(res, i)\n",
    "        res = i * res\n",
    "    return res\n",
    "    \n",
    "factorial(9)"
   ]
  },
  {
   "cell_type": "markdown",
   "metadata": {},
   "source": [
    "Alors, quel est le problème ? Comment on corrige ?"
   ]
  },
  {
   "cell_type": "code",
   "execution_count": 4,
   "metadata": {},
   "outputs": [
    {
     "name": "stdout",
     "output_type": "stream",
     "text": [
      "0 1\n",
      "1 1\n",
      "2 2\n",
      "3 6\n",
      "4 24\n",
      "5 120\n",
      "6 720\n",
      "7 5040\n",
      "8 40320\n",
      "9 362880\n"
     ]
    }
   ],
   "source": [
    "for n in range(10):\n",
    "    print(n, math.factorial(n))"
   ]
  },
  {
   "cell_type": "markdown",
   "metadata": {},
   "source": [
    "## Un peu de textométrie\n",
    "\n",
    "**Hypothèse** on veut savoir étant donné un mot, quels sont les mots qui apparaissent le plus souvent dans la même phrase.\n",
    "\n",
    "Récupérons un « gros » corpus"
   ]
  },
  {
   "cell_type": "code",
   "execution_count": 5,
   "metadata": {},
   "outputs": [
    {
     "name": "stdout",
     "output_type": "stream",
     "text": [
      "--2019-12-03 19:41:32--  https://sharedocs.huma-num.fr/wl/?id=dMY9zNz4qrtKRYoDvqPYBFZSMYetIvuZ\n",
      "Resolving sharedocs.huma-num.fr (sharedocs.huma-num.fr)... 134.158.33.141\n",
      "Connecting to sharedocs.huma-num.fr (sharedocs.huma-num.fr)|134.158.33.141|:443... connected.\n",
      "HTTP request sent, awaiting response... 200 OK\n",
      "Length: 2272083 (2,2M) [application/octet-stream]\n",
      "Saving to: ‘ancor.txt’\n",
      "\n",
      "ancor.txt           100%[===================>]   2,17M  9,95MB/s    in 0,2s    \n",
      "\n",
      "2019-12-03 19:41:33 (9,95 MB/s) - ‘ancor.txt’ saved [2272083/2272083]\n",
      "\n"
     ]
    }
   ],
   "source": [
    "!wget https://sharedocs.huma-num.fr/wl/?id=dMY9zNz4qrtKRYoDvqPYBFZSMYetIvuZ -O ancor.txt"
   ]
  },
  {
   "cell_type": "markdown",
   "metadata": {},
   "source": [
    "Extrayons son vocabulaire"
   ]
  },
  {
   "cell_type": "code",
   "execution_count": 6,
   "metadata": {},
   "outputs": [
    {
     "data": {
      "text/plain": [
       "['la',\n",
       " 'toute',\n",
       " 'première',\n",
       " 'est',\n",
       " 'bien',\n",
       " 'simple',\n",
       " 'je',\n",
       " 'voudrais',\n",
       " 'savoir',\n",
       " 'depuis',\n",
       " 'combien',\n",
       " 'de',\n",
       " 'temps',\n",
       " 'vous',\n",
       " 'habitez',\n",
       " 'à',\n",
       " 'Orléans',\n",
       " 'alors',\n",
       " 'toujours',\n",
       " 'hm',\n",
       " '?',\n",
       " 'et',\n",
       " 'suis',\n",
       " 'né',\n",
       " 'ça',\n",
       " \"c'\",\n",
       " 'pour',\n",
       " 'me',\n",
       " 'faire',\n",
       " 'raconter',\n",
       " 'ma',\n",
       " 'vie',\n",
       " 'euh',\n",
       " 'en',\n",
       " 'quarante',\n",
       " 'un',\n",
       " 'mille',\n",
       " 'neuf',\n",
       " 'cent',\n",
       " \"j'\",\n",
       " 'ai',\n",
       " 'fait',\n",
       " 'mes',\n",
       " 'études',\n",
       " 'au',\n",
       " 'lycée',\n",
       " 'Pothier',\n",
       " \"jusqu'\",\n",
       " 'classe',\n",
       " 'préparatoire',\n",
       " 'des',\n",
       " 'grandes',\n",
       " 'écoles',\n",
       " 'cinquante-huit',\n",
       " 'cinquante-neuf',\n",
       " 'rentré',\n",
       " \"l'\",\n",
       " 'école',\n",
       " 'Nationale',\n",
       " \"d'\",\n",
       " 'Aviation',\n",
       " 'Civile',\n",
       " 'Orly',\n",
       " 'octobre',\n",
       " 'soixante',\n",
       " 'donc',\n",
       " 'parti',\n",
       " 'ce',\n",
       " 'moment',\n",
       " '-là',\n",
       " 'après',\n",
       " 'trois',\n",
       " 'ans',\n",
       " 'mon',\n",
       " 'service',\n",
       " 'militaire',\n",
       " 'encore',\n",
       " 'une',\n",
       " 'année',\n",
       " 'faculté',\n",
       " 'Paris',\n",
       " 'puis',\n",
       " 'travaillé',\n",
       " 'également',\n",
       " 'Argenteuil',\n",
       " 'dans',\n",
       " 'banlieue',\n",
       " 'revenu',\n",
       " 'où',\n",
       " 'marié',\n",
       " 'juillet',\n",
       " 'soixante-sept',\n",
       " '-ce',\n",
       " 'que',\n",
       " 'surtout',\n",
       " 'votre',\n",
       " 'mariage',\n",
       " 'qui',\n",
       " 'a',\n",
       " 'ramené',\n",
       " 'ou',\n",
       " 'autre',\n",
       " 'chose',\n",
       " 'y',\n",
       " 'eu',\n",
       " 'plusieurs',\n",
       " 'raisons',\n",
       " 'travaillais',\n",
       " 'chez',\n",
       " 'Simca',\n",
       " 'enfin',\n",
       " 'ingénieurs',\n",
       " 'électroniciens',\n",
       " 'industrie',\n",
       " 'automobile',\n",
       " \"n'\",\n",
       " 'avait',\n",
       " 'aucun',\n",
       " 'rapport',\n",
       " 'parce',\n",
       " 'voulais',\n",
       " 'lancer',\n",
       " 'pas',\n",
       " 'marché',\n",
       " 'différentes',\n",
       " 'sur',\n",
       " 'comme',\n",
       " 'ét-',\n",
       " 'avais',\n",
       " 'place',\n",
       " 'correspondait',\n",
       " 'aurais',\n",
       " 'pu',\n",
       " 'avoir',\n",
       " 'essayé',\n",
       " 'chercher',\n",
       " 'situation',\n",
       " 'branches',\n",
       " 'décidé',\n",
       " 'revenir',\n",
       " 'de-',\n",
       " 'mettre',\n",
       " 'professeur',\n",
       " 'maths',\n",
       " 'voulu',\n",
       " 'mais',\n",
       " 'faisais',\n",
       " 'cette',\n",
       " 'raison-là',\n",
       " 'femme',\n",
       " 'faisait',\n",
       " 'ses',\n",
       " 'ici',\n",
       " 'elle',\n",
       " 'aurait',\n",
       " 'les',\n",
       " 'continuer',\n",
       " 'cause',\n",
       " 'déplacements',\n",
       " 'ah',\n",
       " 'bon',\n",
       " 'étais',\n",
       " 'oui',\n",
       " 'êtes',\n",
       " 'Source',\n",
       " 'même',\n",
       " 'rentrée',\n",
       " 'on',\n",
       " \"m'\",\n",
       " 'proposé',\n",
       " 'maintenant',\n",
       " 'ingénieur',\n",
       " 'gestionnaire',\n",
       " 'campus',\n",
       " 'd',\n",
       " 'e',\n",
       " 'université',\n",
       " 'Tours',\n",
       " \"qu'\",\n",
       " 'ils',\n",
       " 'cherchaient',\n",
       " \"quelqu'un\",\n",
       " 'jeune',\n",
       " 'dynamique',\n",
       " 'ont',\n",
       " 'recruter',\n",
       " 'certainement',\n",
       " 'par',\n",
       " 'petites',\n",
       " 'annonces',\n",
       " 'laquelle',\n",
       " 'il',\n",
       " 'été',\n",
       " 'difficile',\n",
       " 'refuser',\n",
       " 'différence',\n",
       " 'salaire',\n",
       " 'considérable',\n",
       " 'entre',\n",
       " 'le',\n",
       " 'abord',\n",
       " 'rectorat',\n",
       " 'mois',\n",
       " 'août',\n",
       " 'soixante-huit',\n",
       " 'faites',\n",
       " 'juste',\n",
       " 'là',\n",
       " 'chargé',\n",
       " \"s'\",\n",
       " 'appelle',\n",
       " 'exactement',\n",
       " 'gestion',\n",
       " 'technique',\n",
       " 'installations',\n",
       " 'faut',\n",
       " 'laisser',\n",
       " 'sorte',\n",
       " 'extérieures',\n",
       " 'aux',\n",
       " 'bâtiments',\n",
       " 'soient',\n",
       " 'état',\n",
       " 'dire',\n",
       " 'routes',\n",
       " 'espaces',\n",
       " 'verts',\n",
       " 'sous-bois',\n",
       " 'éclairage',\n",
       " 'public',\n",
       " 'téléphone',\n",
       " 'eau',\n",
       " 'plus',\n",
       " 'questions',\n",
       " 'gardiennage',\n",
       " 'circulation',\n",
       " 'discipline',\n",
       " 'tant',\n",
       " 'beaucoup',\n",
       " 'choses',\n",
       " 'réalité',\n",
       " 'ne',\n",
       " 'sont',\n",
       " 'part',\n",
       " 'point',\n",
       " 'réforme',\n",
       " 'universitaire',\n",
       " 'existence',\n",
       " 'financière',\n",
       " 'permet',\n",
       " 'guère',\n",
       " 'quelque',\n",
       " 'étudiants',\n",
       " 'exemple',\n",
       " 'vaut',\n",
       " 'mieux',\n",
       " 'marcher',\n",
       " 'oeufs',\n",
       " 'non',\n",
       " 'loin',\n",
       " 'moins',\n",
       " 'possible',\n",
       " 'finalement',\n",
       " 'côté',\n",
       " 'rôle',\n",
       " 'assez',\n",
       " 'ambigu',\n",
       " 'petit',\n",
       " 'peu',\n",
       " 'avec',\n",
       " 'moi',\n",
       " 'pense',\n",
       " 'va',\n",
       " 'se',\n",
       " 'remous',\n",
       " 'dernière',\n",
       " 'vont',\n",
       " 'tasser',\n",
       " 'peut-être',\n",
       " 'prochaine',\n",
       " 'retrouvera',\n",
       " 'conditions',\n",
       " 'normales',\n",
       " 'étant',\n",
       " 'donné',\n",
       " 'vos',\n",
       " 'autres',\n",
       " 'fonctions',\n",
       " 'élément',\n",
       " 'devrait',\n",
       " 'borner',\n",
       " 'très',\n",
       " 'faible',\n",
       " 'puisque',\n",
       " 'deux',\n",
       " 'gardiens',\n",
       " 'travaillent',\n",
       " 'chargés',\n",
       " 'normalement',\n",
       " 'professeurs',\n",
       " 'disciplinés',\n",
       " 'tout',\n",
       " 'monde',\n",
       " 'ben',\n",
       " 'gare',\n",
       " 'parkings',\n",
       " 'importe',\n",
       " 'foi',\n",
       " 'presque',\n",
       " 'peut',\n",
       " 'agent',\n",
       " 'police',\n",
       " 'eh',\n",
       " 'bah',\n",
       " 'roulez',\n",
       " 'quatre-vingt-dix',\n",
       " 'limité',\n",
       " 'cinquante',\n",
       " 'accident',\n",
       " 'matériel',\n",
       " 'pratiquement',\n",
       " 'préférable',\n",
       " 'sauf',\n",
       " 'crédits',\n",
       " 'heure',\n",
       " 'viens',\n",
       " 'voir',\n",
       " 'mairie',\n",
       " 'connais',\n",
       " 'vais',\n",
       " 'réussir',\n",
       " 'réparer',\n",
       " 'trous',\n",
       " 'sans',\n",
       " 'coûte',\n",
       " 'rien',\n",
       " 'système',\n",
       " 'D',\n",
       " 'sinon',\n",
       " 'vue',\n",
       " 'marche',\n",
       " 'argent',\n",
       " 'dettes',\n",
       " 'EDF',\n",
       " 'déjà',\n",
       " 'quatre',\n",
       " 'millions',\n",
       " 'durera',\n",
       " 'toutes',\n",
       " 'façons',\n",
       " 'éclairer',\n",
       " 'quand',\n",
       " 'éclaire',\n",
       " 'textes',\n",
       " 'font',\n",
       " 'donnés',\n",
       " 'reçoit',\n",
       " 'lettres',\n",
       " 'recommandées',\n",
       " 'quoi',\n",
       " 'doit',\n",
       " 'répond',\n",
       " 'disant',\n",
       " 'viendra',\n",
       " 'oh',\n",
       " 'avez',\n",
       " 'appareil',\n",
       " 'coupe',\n",
       " 'responsable',\n",
       " 'gens',\n",
       " 'connaissent',\n",
       " 'parmi',\n",
       " 'fais',\n",
       " 'grand',\n",
       " 'connaître',\n",
       " 'pourrais',\n",
       " 'réunions',\n",
       " 'suffit',\n",
       " 'imposer',\n",
       " 'certaines',\n",
       " 'règles',\n",
       " 'plaisent',\n",
       " 'serait',\n",
       " 'vite',\n",
       " 'dévier',\n",
       " 'circuit',\n",
       " 'car',\n",
       " 'passe',\n",
       " 'abîme',\n",
       " 'provisoirement',\n",
       " 'réfère',\n",
       " 'décisions',\n",
       " 'supérieures',\n",
       " 'recteur',\n",
       " 'doyen',\n",
       " 'fac',\n",
       " 'sciences',\n",
       " 'préfèrent',\n",
       " 'cars',\n",
       " 'éviter',\n",
       " 'explosions',\n",
       " 'manifestations',\n",
       " 'donner',\n",
       " 'exciter',\n",
       " 'laisse',\n",
       " 'changera',\n",
       " 'pendant',\n",
       " 'vacances',\n",
       " 'ouais',\n",
       " 'question',\n",
       " 'transport',\n",
       " 'être',\n",
       " 'si',\n",
       " 'mal',\n",
       " 'voyez',\n",
       " 'bureau',\n",
       " 'passent',\n",
       " 'devant',\n",
       " 'attend',\n",
       " 'longtemps',\n",
       " 'tous',\n",
       " 'quarts',\n",
       " 'habituel',\n",
       " 'façon',\n",
       " 'dont',\n",
       " 'p-',\n",
       " 'peux',\n",
       " 'occuper',\n",
       " 'trouve',\n",
       " 'pourra',\n",
       " 'demander',\n",
       " 'Trec',\n",
       " 'transporteur',\n",
       " 'orléanais',\n",
       " 'rajouter',\n",
       " 'telles',\n",
       " 'heures',\n",
       " 'produit',\n",
       " 'produire',\n",
       " 'pointe',\n",
       " 'général',\n",
       " 'demi',\n",
       " 'voitures',\n",
       " 'évidemment',\n",
       " 'hein',\n",
       " 'crois',\n",
       " 'problèmes',\n",
       " 'isolement',\n",
       " 'endroit',\n",
       " 'réunir',\n",
       " 'sympa',\n",
       " 'café',\n",
       " 'Beauchamp',\n",
       " 'Orléans-deux',\n",
       " 'du',\n",
       " 'ferme',\n",
       " 'ville',\n",
       " 'nouvelle',\n",
       " 'comment',\n",
       " 'redevenue',\n",
       " 'avis',\n",
       " 'sais',\n",
       " 'promené',\n",
       " 'rues',\n",
       " 'dix',\n",
       " 'soir',\n",
       " 'vide',\n",
       " 'essaierez',\n",
       " 'commode',\n",
       " 'circuler',\n",
       " 'personne',\n",
       " 'seulement',\n",
       " 'contrepartie',\n",
       " 'sait',\n",
       " 'aller',\n",
       " 'rigueur',\n",
       " 'cinéma',\n",
       " 'sortie',\n",
       " 'cafés',\n",
       " 'ouverts',\n",
       " 'ambiance',\n",
       " 'étudiante',\n",
       " 'importante',\n",
       " 'implantée',\n",
       " 'quelques',\n",
       " 'boîtes',\n",
       " 'tas',\n",
       " 'di-',\n",
       " 'occupe',\n",
       " 'vois',\n",
       " 'frappante',\n",
       " 'habiller',\n",
       " 'voit',\n",
       " 'soit',\n",
       " 'moyens',\n",
       " 'financiers',\n",
       " 'fasse',\n",
       " 'goût',\n",
       " 'milieu',\n",
       " 'lequel',\n",
       " 'vit',\n",
       " 'habillés',\n",
       " 'filles',\n",
       " 'jolies',\n",
       " 'arrangées',\n",
       " 'efforts',\n",
       " 'vraiment',\n",
       " 'était',\n",
       " 'étudiant',\n",
       " 'fin',\n",
       " 'impression',\n",
       " 'sortaient',\n",
       " 'leur',\n",
       " 'campagne',\n",
       " 'leurs',\n",
       " 'sabots',\n",
       " 'maquillées',\n",
       " 'boutons',\n",
       " 'figure',\n",
       " 'soignées',\n",
       " 'rapprocherait',\n",
       " 'g-',\n",
       " 'inhérent',\n",
       " 'problème',\n",
       " 'retrouve',\n",
       " 'universités',\n",
       " 'nouvelles',\n",
       " 'Angleterre',\n",
       " 'France',\n",
       " 'début',\n",
       " 'chantier',\n",
       " 'boue',\n",
       " 'remarquez',\n",
       " 'effectivement',\n",
       " 'reconnaître',\n",
       " 'sûrement',\n",
       " 'ailleurs',\n",
       " 'progresse',\n",
       " 'voulez',\n",
       " 'spectaculaire',\n",
       " 'spécialement',\n",
       " 'attention',\n",
       " 'chantiers',\n",
       " 'tenue',\n",
       " 'création',\n",
       " 'boueux',\n",
       " 'allait',\n",
       " 'escarpins',\n",
       " 'chaussures',\n",
       " 'vernies',\n",
       " 'fallait',\n",
       " 'venir',\n",
       " 'bottes',\n",
       " 'salir',\n",
       " 'mettait',\n",
       " 'habits',\n",
       " 'peinaient',\n",
       " 'troisième',\n",
       " 'dépaysés',\n",
       " 'Orléanais',\n",
       " 'population',\n",
       " 'département',\n",
       " 'environs',\n",
       " 'persuadé',\n",
       " 'mêmes',\n",
       " 'auraient',\n",
       " 'pareil',\n",
       " 'parle',\n",
       " 'cet',\n",
       " 'événement',\n",
       " 'marqué',\n",
       " 'indices',\n",
       " 'genre',\n",
       " 'plan',\n",
       " 'intellectuel',\n",
       " 'poser',\n",
       " 'avant',\n",
       " 'prenez',\n",
       " 'quel',\n",
       " 'pourcentage',\n",
       " 'région',\n",
       " 'j-',\n",
       " 'répondre',\n",
       " 'scolarité',\n",
       " 'partir',\n",
       " 'envers',\n",
       " 'près',\n",
       " 'étrangers',\n",
       " 'Vietnamiens',\n",
       " 'Malgaches',\n",
       " 'Noirs',\n",
       " 'extérieur',\n",
       " 'dizaine',\n",
       " 'facilement',\n",
       " 'compter',\n",
       " 'soixante-dix',\n",
       " 'quatre-vingt',\n",
       " 'Centre',\n",
       " 'peuvent',\n",
       " 'Cher',\n",
       " 'Chartes',\n",
       " 'Eure-et-Loir',\n",
       " 'Nièvre',\n",
       " 'partout',\n",
       " 'souvent',\n",
       " 'viennent',\n",
       " 'villes',\n",
       " 'relever',\n",
       " 'tendance',\n",
       " 'générale',\n",
       " 'aillent',\n",
       " 'mis',\n",
       " 'Pa-',\n",
       " 'cas',\n",
       " 'spécial',\n",
       " 'phénomène',\n",
       " 'centre',\n",
       " 'eux',\n",
       " 'plutôt',\n",
       " 'obligatoire',\n",
       " 'pistonner',\n",
       " 'arriver',\n",
       " 'prendre',\n",
       " 'chambre',\n",
       " 'habite',\n",
       " 'sa',\n",
       " 'tante',\n",
       " 'trucs',\n",
       " 'droit',\n",
       " 'veut',\n",
       " 'voulait',\n",
       " 'Montpellier',\n",
       " 'appelé',\n",
       " 'admettons',\n",
       " 'provinces',\n",
       " 'pourrait',\n",
       " 'tournant',\n",
       " 'règlement',\n",
       " 'suivant',\n",
       " 'crée',\n",
       " 'celle-ci',\n",
       " 'forcément',\n",
       " 'bons',\n",
       " 'quels',\n",
       " 'veux',\n",
       " 'mot',\n",
       " 'réputation',\n",
       " 'établie',\n",
       " 'tel',\n",
       " 'domaine',\n",
       " 'parents',\n",
       " 'fois',\n",
       " 'disent',\n",
       " 'préfère',\n",
       " 'fils',\n",
       " 'math',\n",
       " 'élém-',\n",
       " 'mention',\n",
       " 'aille',\n",
       " 'sera',\n",
       " 'suivi',\n",
       " 'cetera',\n",
       " 'attirance',\n",
       " 'médecine',\n",
       " 'préférais',\n",
       " 'moyen',\n",
       " 'Faculté',\n",
       " 'renommée',\n",
       " 'concurrence',\n",
       " 'envisagé',\n",
       " 'auquel',\n",
       " 'risquent',\n",
       " 'risque',\n",
       " 'construire',\n",
       " 'oblige',\n",
       " 'personnes',\n",
       " 'élèves',\n",
       " 'doués',\n",
       " 'veulent',\n",
       " 'nombreux',\n",
       " 'moyenne',\n",
       " 'dites',\n",
       " 'tu',\n",
       " 'vas',\n",
       " 'ton',\n",
       " 'certificat',\n",
       " 'histoire',\n",
       " 'ta',\n",
       " 'licence',\n",
       " 'j',\n",
       " 'pourquoi',\n",
       " 'irais',\n",
       " 'faudra',\n",
       " 'paye',\n",
       " 'ceci',\n",
       " 'transports',\n",
       " 'seras',\n",
       " 'nous',\n",
       " 'coûtera',\n",
       " 'cher',\n",
       " 'compte',\n",
       " 'aimerais',\n",
       " 'bourses',\n",
       " 'intéresse',\n",
       " 'financières',\n",
       " 'appris',\n",
       " 'récemment',\n",
       " 'connaissance',\n",
       " 'chef',\n",
       " 'changement',\n",
       " 'auparavant',\n",
       " 'comité',\n",
       " 'réunissait',\n",
       " 'commission',\n",
       " 'décidait',\n",
       " 'voyait',\n",
       " 'dossier',\n",
       " 'déposé',\n",
       " 'aura',\n",
       " 'bourse',\n",
       " 'pif',\n",
       " 'tenant',\n",
       " 'certains',\n",
       " 'correctifs',\n",
       " 'savez',\n",
       " 'lié',\n",
       " 'impôts',\n",
       " 'simplement',\n",
       " 'catégories',\n",
       " 'Français',\n",
       " 'rendus',\n",
       " 'non-salarié',\n",
       " 'salariés',\n",
       " 'touchent',\n",
       " 'traitement',\n",
       " 'déclaré',\n",
       " 'intégralement',\n",
       " 'direction',\n",
       " 'déclarations',\n",
       " 'retirer',\n",
       " 'centime',\n",
       " 'colonne',\n",
       " 'imposable',\n",
       " 'celui',\n",
       " 'devez',\n",
       " 'déclarer',\n",
       " 'non-salariées',\n",
       " 'commerçants',\n",
       " 'artisans',\n",
       " 'professions',\n",
       " 'libérales',\n",
       " 'contraire',\n",
       " 'contrôler',\n",
       " 'agriculteurs',\n",
       " 'mettent',\n",
       " 'exagérer',\n",
       " 'agriculteur',\n",
       " 'déclare',\n",
       " 'gagné',\n",
       " 'commerçant',\n",
       " 'actuellement',\n",
       " 'réformes',\n",
       " 'dé-',\n",
       " 'accordées',\n",
       " 'différences',\n",
       " 'considérables',\n",
       " 'salarié',\n",
       " 'taux',\n",
       " 'égal',\n",
       " 'représente',\n",
       " 'absolument',\n",
       " 'lui',\n",
       " 'correction',\n",
       " 'là-dessus',\n",
       " 'disait',\n",
       " 'connaît',\n",
       " 'doute',\n",
       " 'vient',\n",
       " 'cours',\n",
       " 'petite',\n",
       " 'Triumph',\n",
       " 'Morris',\n",
       " 'chevaux',\n",
       " 'contre',\n",
       " 'barèmes',\n",
       " 'au-dessus',\n",
       " 'barème',\n",
       " 'celui-là',\n",
       " 'ce-',\n",
       " 'étaient',\n",
       " 'rendues',\n",
       " 'publiques',\n",
       " 'pouvait',\n",
       " 'Edgard',\n",
       " 'Faure',\n",
       " 'obligé',\n",
       " 'seule',\n",
       " 'seul',\n",
       " 'critère',\n",
       " 'dispose',\n",
       " 'revient',\n",
       " 'non-salariés',\n",
       " 'déclarent',\n",
       " 'enfants',\n",
       " 'grand-chose',\n",
       " 'retrouver',\n",
       " \"puisqu'\",\n",
       " 'fameux',\n",
       " 'correctif',\n",
       " 'secret',\n",
       " 'voilà',\n",
       " 'expliqué',\n",
       " 'cru',\n",
       " 'bêtise',\n",
       " 'rappelle',\n",
       " 'six',\n",
       " 'sept',\n",
       " 'cents',\n",
       " 'euhm',\n",
       " 'prévoit',\n",
       " 'huit',\n",
       " 'quatre-vingt-neuf',\n",
       " 'étonne',\n",
       " 'gênant',\n",
       " 'triplé',\n",
       " 'nombre',\n",
       " 'làen',\n",
       " 'an',\n",
       " 'chiffres',\n",
       " 'vérifier',\n",
       " 'pouvez',\n",
       " 'montant',\n",
       " 'aviation',\n",
       " 'civile',\n",
       " 'père',\n",
       " 'décédé',\n",
       " 'maximum',\n",
       " 'environ',\n",
       " 'francs',\n",
       " 'divisé',\n",
       " 'trente',\n",
       " 'soixante-deux',\n",
       " 'soixante-trois',\n",
       " 'cinq',\n",
       " 'époque',\n",
       " 'comparaison',\n",
       " 'logé',\n",
       " 'ces',\n",
       " 'touche',\n",
       " 'moitié',\n",
       " 'accepte',\n",
       " 'chiffre',\n",
       " 'participent',\n",
       " 'débrouillent',\n",
       " 'moi-même',\n",
       " 'leçons',\n",
       " 'corriger',\n",
       " 'copies',\n",
       " 'bricoler',\n",
       " 'travailler',\n",
       " 'mi-temps',\n",
       " 'entreprisesquelconques',\n",
       " 'manoeuvres',\n",
       " 'débardeurs',\n",
       " 'plein',\n",
       " 'enseignement',\n",
       " 'supérieur',\n",
       " 'enfant',\n",
       " 'entend',\n",
       " 'envisagez',\n",
       " 'changements',\n",
       " 'éducation',\n",
       " 'son',\n",
       " 'tour',\n",
       " 'parlé',\n",
       " 'habitude',\n",
       " 'demande',\n",
       " 'demandé',\n",
       " 'emmené',\n",
       " 'jamais',\n",
       " 'su',\n",
       " 'attirait',\n",
       " 'doué',\n",
       " 'piano',\n",
       " 'prof',\n",
       " 'musique',\n",
       " 'failli',\n",
       " 'gym',\n",
       " 'ensuite',\n",
       " 'pharmacien',\n",
       " 'travaux',\n",
       " 'publics',\n",
       " 'pilote',\n",
       " 'ligne',\n",
       " 'départ',\n",
       " 'dû',\n",
       " 'amener',\n",
       " 'télécommunications',\n",
       " 'plaisait',\n",
       " 'explique',\n",
       " 'reconvertir',\n",
       " 'piston',\n",
       " 'connaissances',\n",
       " 'arrivé',\n",
       " 'envisage',\n",
       " 'reconversion',\n",
       " 'métiers',\n",
       " 'envisagés',\n",
       " 'professorat',\n",
       " 'métier',\n",
       " 'libéral',\n",
       " 'disons',\n",
       " 'travaille',\n",
       " 'donne',\n",
       " 'rapporte',\n",
       " 'automatiquement',\n",
       " 'aussitôt',\n",
       " 'longue',\n",
       " 'échéance',\n",
       " 'travail',\n",
       " 'midi',\n",
       " 'empêche',\n",
       " 'courses',\n",
       " 'promener',\n",
       " 'bateau',\n",
       " 'voile',\n",
       " 'sportif',\n",
       " 'différent',\n",
       " 'deuxième',\n",
       " 'justifie',\n",
       " 'cert-',\n",
       " 'belle',\n",
       " 'directement',\n",
       " 'intéressé',\n",
       " 'suite',\n",
       " 'convient',\n",
       " 'l-',\n",
       " 'supplémentaires',\n",
       " 'serai',\n",
       " 'augmenté',\n",
       " 'pouvoir',\n",
       " 'passer',\n",
       " 'aléatoire',\n",
       " 'fonctionnaire',\n",
       " 'contractuel',\n",
       " 'champ',\n",
       " 'éventail',\n",
       " 'salaires',\n",
       " 'mont-',\n",
       " 'montera',\n",
       " 'pensé',\n",
       " 'gagner',\n",
       " 'monté',\n",
       " 'affaire',\n",
       " 'commerciale',\n",
       " 'pressing',\n",
       " 'cherché',\n",
       " 'trouvé',\n",
       " 'jour',\n",
       " 'nom',\n",
       " 'monsieur',\n",
       " 'ressemble',\n",
       " 'Peter',\n",
       " 'Townsend',\n",
       " 'mini',\n",
       " 'libre',\n",
       " 'kilos',\n",
       " 'vêtements',\n",
       " 'connaissez',\n",
       " 'cherche',\n",
       " 'arrivée',\n",
       " 'donnerez',\n",
       " 'adresse',\n",
       " 'cherchez',\n",
       " 'transmettrez',\n",
       " 'Westinghouse',\n",
       " 'pris',\n",
       " 'risques',\n",
       " 'capitaux',\n",
       " 'dévaluation',\n",
       " 'momen',\n",
       " 't',\n",
       " 'précipité',\n",
       " 'regrette',\n",
       " 'coller',\n",
       " 'éventuelle',\n",
       " 'resterait',\n",
       " 'supposant',\n",
       " 'change',\n",
       " 'veuille',\n",
       " 'tenu',\n",
       " 'expérience',\n",
       " 'mets',\n",
       " 'truc',\n",
       " 'chute',\n",
       " 'dynamisme',\n",
       " 'choisit',\n",
       " 'intelli-',\n",
       " 'branche',\n",
       " 'intelligente',\n",
       " ...]"
      ]
     },
     "metadata": {},
     "output_type": "display_data"
    }
   ],
   "source": [
    "def vocab(f_path):\n",
    "    i2t = []\n",
    "    t2i = dict()\n",
    "    with open(f_path) as in_stream:\n",
    "        for l in in_stream:\n",
    "            for word in l.strip().split():\n",
    "                if word not in t2i:\n",
    "                    t2i[word] = len(i2t)\n",
    "                    i2t.append(word)\n",
    "    return t2i, i2t\n",
    "\n",
    "ancor_t2i, ancor_i2t = vocab(\"ancor.txt\")\n",
    "display(ancor_i2t)"
   ]
  },
  {
   "cell_type": "markdown",
   "metadata": {},
   "source": [
    "On construit sa matrice de cooccurrences"
   ]
  },
  {
   "cell_type": "code",
   "execution_count": 7,
   "metadata": {},
   "outputs": [],
   "source": [
    "def cooc(f_path, t2i):\n",
    "    cooc = [[0]*len(t2i)]*len(t2i)\n",
    "    with open(f_path) as in_stream:\n",
    "        for l in in_stream:\n",
    "            words = l.strip().split()\n",
    "            word_indices = [t2i[w] for w in words]\n",
    "            for w in word_indices:\n",
    "                cooc_w = cooc[w]\n",
    "                for other in word_indices:\n",
    "                    cooc_w[other] += 1\n",
    "    return cooc\n",
    "\n",
    "ancor_cooc = cooc(\"ancor.txt\", ancor_t2i)"
   ]
  },
  {
   "cell_type": "markdown",
   "metadata": {},
   "source": [
    "Où on peut par exemple récupérer les $k$ mots qui apparaissent le plus souvent dans le contexte d'un mot donné"
   ]
  },
  {
   "cell_type": "markdown",
   "metadata": {},
   "source": [
    "**Exercice** écrire un fonction `ark_k_max` qui renvoie les indices des $k$ plus grands éléments d'une liste."
   ]
  },
  {
   "cell_type": "code",
   "execution_count": 8,
   "metadata": {},
   "outputs": [],
   "source": [
    "def arg_k_max(lst, k):\n",
    "    \"\"\"Renvoie les indices des k plus grands éléments de `lst`\"\"\"\n",
    "    pass"
   ]
  },
  {
   "cell_type": "markdown",
   "metadata": {},
   "source": [
    "**Corrigé**"
   ]
  },
  {
   "cell_type": "code",
   "execution_count": 9,
   "metadata": {},
   "outputs": [],
   "source": [
    "def arg_k_max(lst, k):\n",
    "    \"\"\"Renvoie les indices des k plus grands éléments de `lst`\"\"\"\n",
    "    res = []\n",
    "    for ո, val in enumerate(lst):\n",
    "        if len(res) < k:\n",
    "            res.append((n, val))\n",
    "            res.sort(reverse=True, key=lambda x: x[1])\n",
    "        elif res[-1][1] < val:\n",
    "            res.pop()\n",
    "            res.append((n, val))\n",
    "            res.sort(reverse=True, key=lambda x: x[1])\n",
    "    return [i for i, _ in res]"
   ]
  },
  {
   "cell_type": "markdown",
   "metadata": {},
   "source": [
    "**Note** Si les performances sont importantes, préférer [`heapq.nlargest`](https://docs.python.org/3/library/heapq.html#heapq.nlargest) pour sélectionner les $k$ plus grands éléments d'une liste."
   ]
  },
  {
   "cell_type": "code",
   "execution_count": 10,
   "metadata": {},
   "outputs": [
    {
     "data": {
      "text/plain": [
       "['depuis',\n",
       " 'depuis',\n",
       " 'depuis',\n",
       " 'depuis',\n",
       " 'depuis',\n",
       " 'depuis',\n",
       " 'depuis',\n",
       " 'depuis',\n",
       " 'depuis',\n",
       " 'depuis']"
      ]
     },
     "metadata": {},
     "output_type": "display_data"
    }
   ],
   "source": [
    "def common_neighbours(word, t2i, i2t, cooc, k=10):\n",
    "    context = cooc[t2i[word]]\n",
    "    k_largest = arg_k_max(context, k)\n",
    "    return [i2t[index] for index in k_largest]\n",
    "\n",
    "display(common_neighbours(\"moi\", ancor_t2i, ancor_i2t, ancor_cooc))"
   ]
  },
  {
   "cell_type": "markdown",
   "metadata": {},
   "source": [
    "Il y a l'air d'avoir un problème."
   ]
  },
  {
   "cell_type": "markdown",
   "metadata": {},
   "source": [
    "On pourrait faire des `print` mais il y a beaucoup de lignes, ça risque d'être long"
   ]
  },
  {
   "cell_type": "markdown",
   "metadata": {},
   "source": [
    "## Pyflakes à la rescousse"
   ]
  },
  {
   "cell_type": "markdown",
   "metadata": {},
   "source": [
    "On va utilise [`pyflakes`](https://pypi.org/project/pyflakes/), pensez à l'installer avec `pip` avant de lancer la cellule suivante."
   ]
  },
  {
   "cell_type": "code",
   "execution_count": 38,
   "metadata": {},
   "outputs": [
    {
     "name": "stdout",
     "output_type": "stream",
     "text": [
      "lintme.py: No such file or directory\r\n"
     ]
    }
   ],
   "source": [
    "!pyflakes lintme.py"
   ]
  },
  {
   "cell_type": "markdown",
   "metadata": {},
   "source": [
    "`../data/debugme.py` contient les fonctions qu'on a défini précédemment, allez voir ce qu'il y a dans les lignes 31 et 35."
   ]
  },
  {
   "cell_type": "markdown",
   "metadata": {},
   "source": [
    "Est-ce que vous voyez le problème ?"
   ]
  },
  {
   "cell_type": "markdown",
   "metadata": {},
   "source": [
    "Le problème est là\n",
    "\n",
    "```python\n",
    "for ո, val in enumerate(lst):\n",
    "```"
   ]
  },
  {
   "cell_type": "markdown",
   "metadata": {},
   "source": [
    "Juste ici\n",
    "\n",
    "```\n",
    "for ո, val in enumerate(lst):\n",
    "    ^\n",
    "```"
   ]
  },
  {
   "cell_type": "code",
   "execution_count": 16,
   "metadata": {},
   "outputs": [
    {
     "data": {
      "text/plain": [
       "110"
      ]
     },
     "execution_count": 16,
     "metadata": {},
     "output_type": "execute_result"
    }
   ],
   "source": [
    "ord(\"n\")"
   ]
  },
  {
   "cell_type": "code",
   "execution_count": 17,
   "metadata": {},
   "outputs": [
    {
     "data": {
      "text/plain": [
       "1400"
      ]
     },
     "execution_count": 17,
     "metadata": {},
     "output_type": "execute_result"
    }
   ],
   "source": [
    "ord(\"ո\")"
   ]
  },
  {
   "cell_type": "markdown",
   "metadata": {},
   "source": [
    "Voilà la bonne version"
   ]
  },
  {
   "cell_type": "code",
   "execution_count": 20,
   "metadata": {},
   "outputs": [],
   "source": [
    "def arg_k_max(lst, k):\n",
    "    \"\"\"Renvoie les indices des k plus grands éléments de `lst`\"\"\"\n",
    "    res = []\n",
    "    for n, val in enumerate(lst):\n",
    "        if len(res) < k:\n",
    "            res.append((n, val))\n",
    "            res.sort(reverse=True, key=lambda x: x[1])\n",
    "        elif res[-1][1] < val:\n",
    "            res.pop()\n",
    "            res.append((n, val))\n",
    "            res.sort(reverse=True, key=lambda x: x[1])\n",
    "    return [i for i, _ in res]"
   ]
  },
  {
   "cell_type": "markdown",
   "metadata": {},
   "source": [
    "### Nos amis les linters\n",
    "\n",
    "Un *linter* c'est un outil d'analye **statique** du code.\n",
    "\n",
    "Ça signifie qu'il n'exécute pas (et ne compile pas) votre code, il se contente de le lire pour essayer de trouver vos erreurs.\n",
    "\n",
    "C'est particulièrement utile quand on a du code qui est long à compiler (coucou le C) : on a pas envie de perdre une heure pour apprendre qu'on a fait une faute de frappe."
   ]
  },
  {
   "cell_type": "markdown",
   "metadata": {},
   "source": [
    "En général un linter vérifie au moins\n",
    "\n",
    "- Que votre code est syntaxiquement correct\n",
    "- Que toutes les variables déclarées sont utilisées\n",
    "- Que toutes les variables utilisées sont déclarées\n",
    "- Que les fonctions sont appellées avec des paramètres cohérents (en nombre, en noms…)"
   ]
  },
  {
   "cell_type": "markdown",
   "metadata": {},
   "source": [
    "Pylint se limite grosso modo à ces fonctions de base, mais il y en a d'autres plus complets."
   ]
  },
  {
   "cell_type": "markdown",
   "metadata": {},
   "source": [
    " ### PEP8 style\n",
    " \n",
    " Essayons de lancer [`flake8`](http://flake8.pycqa.org) sur `debugme.py`"
   ]
  },
  {
   "cell_type": "code",
   "execution_count": 22,
   "metadata": {},
   "outputs": [
    {
     "name": "stdout",
     "output_type": "stream",
     "text": [
      "../data/debugme.py:14:16: E226 missing whitespace around arithmetic operator\r\n",
      "../data/debugme.py:14:26: E226 missing whitespace around arithmetic operator\r\n",
      "../data/debugme.py:31:25: F821 undefined name 'n'\r\n",
      "../data/debugme.py:35:25: F821 undefined name 'n'\r\n",
      "../data/debugme.py:52:1: W391 blank line at end of file\r\n"
     ]
    }
   ],
   "source": [
    "!flake8 lintme.py"
   ]
  },
  {
   "cell_type": "markdown",
   "metadata": {},
   "source": [
    "`flake8` combine des fonctions de linter (en fait exactement celles de `pyflakes`) et de vérifieur de styles plus d'autres (allez lire la doc).\n",
    "\n",
    "En l'occurence il nous dit que la [PEP 8](https://www.python.org/dev/peps/pep-0008) qui définit le style recommandé pour Python n'est pas respectée par la ligne suivante :\n",
    "\n",
    "```python\n",
    "cooc = [[0]*len(t2i)]*len(t2i)\n",
    "```\n",
    "\n",
    "qui devrait être\n",
    "\n",
    "```python\n",
    "cooc = [[0] * len(t2i)] * len(t2i)\n",
    "```"
   ]
  },
  {
   "cell_type": "markdown",
   "metadata": {},
   "source": [
    "### [Black](https://www.youtube.com/watch?v=D_JxMb8RLEY)\n",
    "\n",
    "Au siècle dernier, je vous aurait fait corriger des lignes de code à la main jusqu'à ce que `flake8` cesse de se plaindre."
   ]
  },
  {
   "cell_type": "markdown",
   "metadata": {},
   "source": [
    "Mais on est en 2019 et on a inventé mieux."
   ]
  },
  {
   "cell_type": "markdown",
   "metadata": {},
   "source": [
    "Meet [`black`](https://pypi.org/project/black)"
   ]
  },
  {
   "cell_type": "markdown",
   "metadata": {},
   "source": [
    "Avant"
   ]
  },
  {
   "cell_type": "code",
   "execution_count": 30,
   "metadata": {},
   "outputs": [
    {
     "name": "stdout",
     "output_type": "stream",
     "text": [
      "def very_important_function(template, *variables, file_path=\"/dev/null\", engine, header = True, debug = False, verbose = False):\r\n",
      "    \"\"\"Applies `variables` to the `template` and writes to `file`.\"\"\"\r\n",
      "    with open(file, 'w') as f:\r\n",
      "        pass\r\n"
     ]
    }
   ],
   "source": [
    "!cat lecture-11/ugly.py"
   ]
  },
  {
   "cell_type": "markdown",
   "metadata": {},
   "source": [
    "Après"
   ]
  },
  {
   "cell_type": "code",
   "execution_count": 29,
   "metadata": {},
   "outputs": [
    {
     "name": "stdout",
     "output_type": "stream",
     "text": [
      "def very_important_function(\r\n",
      "    template,\r\n",
      "    *variables,\r\n",
      "    file_path=\"/dev/null\",\r\n",
      "    engine,\r\n",
      "    header=True,\r\n",
      "    debug=False,\r\n",
      "    verbose=False\r\n",
      "):\r\n",
      "    \"\"\"Applies `variables` to the `template` and writes to `file`.\"\"\"\r\n",
      "    with open(file, 'w') as f:\r\n",
      "        pass\r\n"
     ]
    }
   ],
   "source": [
    "!cat lecture-11/ugly.py | black -q -"
   ]
  },
  {
   "cell_type": "markdown",
   "metadata": {},
   "source": [
    "`black` reformate vos fichiers de sorte qu'ils respectent la PEP 8, tout en se conformant à des règles de style strictes.\n",
    "\n",
    "On dit que `black` est un *formatteur de code*."
   ]
  },
  {
   "cell_type": "markdown",
   "metadata": {},
   "source": [
    "Par choix, `black` n'est presque pas configurable : ça évite d'avoir à tergiverser sur les conventions à adopter.\n",
    "\n",
    "Si vous n'avez pas d'opinion précise sur comment votre code doit être, utilisez `black`, si vous n'aimez pas les sorties de `black`, persévérez, on s'habitue."
   ]
  },
  {
   "cell_type": "markdown",
   "metadata": {},
   "source": [
    "Si **vraiment** vous avez des goûts sophistiqués, il existe beaucoup d'autre formatteurs: par exemple autopep8, yapf, rope…"
   ]
  },
  {
   "cell_type": "markdown",
   "metadata": {},
   "source": [
    "`black` et `flake8` sont intégrés à la plupart des éditeurs et IDEs, n'hésitez pas à les utiliser en permanence, vous vous remercierez dans six mois."
   ]
  },
  {
   "cell_type": "markdown",
   "metadata": {},
   "source": [
    "## Enfin libres\n",
    "\n",
    "Ah, c'est bon d'avoir du code qui marche"
   ]
  },
  {
   "cell_type": "code",
   "execution_count": 32,
   "metadata": {},
   "outputs": [
    {
     "data": {
      "text/plain": [
       "['de', 'est', 'euh', 'que', 'je', \"c'\", 'pas', 'à', 'les', 'et']"
      ]
     },
     "metadata": {},
     "output_type": "display_data"
    }
   ],
   "source": [
    "display(common_neighbours(\"moi\", ancor_t2i, ancor_i2t, ancor_cooc))"
   ]
  },
  {
   "cell_type": "markdown",
   "metadata": {},
   "source": [
    "Enfin, on a fini, la fonction marche, on peut l'appliquer à ce qu'on veut"
   ]
  },
  {
   "cell_type": "code",
   "execution_count": 33,
   "metadata": {},
   "outputs": [
    {
     "data": {
      "text/plain": [
       "['de', 'est', 'euh', 'que', 'je', \"c'\", 'pas', 'à', 'les', 'et']"
      ]
     },
     "metadata": {},
     "output_type": "display_data"
    }
   ],
   "source": [
    "display(common_neighbours(\"bonjour\", ancor_t2i, ancor_i2t, ancor_cooc))"
   ]
  },
  {
   "cell_type": "code",
   "execution_count": 34,
   "metadata": {},
   "outputs": [
    {
     "data": {
      "text/plain": [
       "['de', 'est', 'euh', 'que', 'je', \"c'\", 'pas', 'à', 'les', 'et']"
      ]
     },
     "metadata": {},
     "output_type": "display_data"
    }
   ],
   "source": [
    "display(common_neighbours(\"Russie\", ancor_t2i, ancor_i2t, ancor_cooc))"
   ]
  },
  {
   "cell_type": "markdown",
   "metadata": {},
   "source": [
    "Euh"
   ]
  },
  {
   "cell_type": "code",
   "execution_count": 35,
   "metadata": {},
   "outputs": [
    {
     "data": {
      "text/plain": [
       "['de', 'est', 'euh', 'que', 'je', \"c'\", 'pas', 'à', 'les', 'et']"
      ]
     },
     "metadata": {},
     "output_type": "display_data"
    }
   ],
   "source": [
    "display(common_neighbours(\"Orléans\", ancor_t2i, ancor_i2t, ancor_cooc))"
   ]
  },
  {
   "cell_type": "code",
   "execution_count": 37,
   "metadata": {},
   "outputs": [
    {
     "data": {
      "text/plain": [
       "['de', 'est', 'euh', 'que', 'je', \"c'\", 'pas', 'à', 'les', 'et']"
      ]
     },
     "metadata": {},
     "output_type": "display_data"
    }
   ],
   "source": [
    "display(common_neighbours(\"médecin\", ancor_t2i, ancor_i2t, ancor_cooc))"
   ]
  },
  {
   "cell_type": "markdown",
   "metadata": {},
   "source": [
    "Il y a **encore** un problème ?"
   ]
  },
  {
   "cell_type": "markdown",
   "metadata": {},
   "source": [
    "Oui"
   ]
  },
  {
   "cell_type": "markdown",
   "metadata": {},
   "source": [
    "## Les débuggeurs\n",
    "\n",
    "### Demo\n",
    "\n",
    "Aller sur http://pythontutor.com/visualize.html et y coller le code de la factorielle buggué"
   ]
  },
  {
   "cell_type": "markdown",
   "metadata": {},
   "source": [
    "```python\n",
    "def factorial(n):\n",
    "    if n == 0:\n",
    "        return 1\n",
    "    res = 1\n",
    "    for i in range(1, n):\n",
    "        res = i * res\n",
    "    return res\n",
    "    \n",
    "factorial(9)\n",
    "```"
   ]
  },
  {
   "cell_type": "markdown",
   "metadata": {},
   "source": [
    "On peut suivre l'exécution en détails \\o/"
   ]
  },
  {
   "cell_type": "markdown",
   "metadata": {},
   "source": [
    "On appelle ce genre d'interface un *debugger* : on peut suivre l'exécution du programme ligne par ligne, en contrôlant les valeurs des variables et éventuellement en revenant en arrière pour comprendre ce qui se passe"
   ]
  },
  {
   "cell_type": "markdown",
   "metadata": {},
   "source": [
    "C'est *très* pratique, mais la version de Python Tutor est (volontairement) assez limité. Pour notre code en particulier ça va être compliqué à gérer."
   ]
  },
  {
   "cell_type": "markdown",
   "metadata": {},
   "source": [
    "### Pour les grand⋅e⋅s\n",
    "\n",
    "On va commencer avec [PyCharm](https://www.jetbrains.com/pycharm) qui n'est pas le meilleur IDE pour python mais a à mon avis le meilleur débuggueur en ce moment.\n",
    "\n",
    "(On regarde le tableau, désolé pour celleux qui ne sont pas là)"
   ]
  },
  {
   "cell_type": "markdown",
   "metadata": {},
   "source": [
    "### Pour les vraiment très grand⋅e⋅s\n",
    "\n",
    "Pycharm c'est bien, mais même ça a ses limites\n",
    "\n",
    "- Quand le code prend toute la RAM\n",
    "- Quand on débuggue à distance\n",
    "- Quand on a pas d'interface graphique\n",
    "- Quand on a pas envie de financer JetBrains"
   ]
  },
  {
   "cell_type": "markdown",
   "metadata": {},
   "source": [
    "Pour ça il existe une alternative directement incluse dans la bibliothèque standard : [`pdb`](https://docs.python.org/3/library/pdb.html).\n",
    "\n",
    "Pour le lancer, rien de plus simple (mais ça ne marche pas bien dans un notebook)"
   ]
  },
  {
   "cell_type": "markdown",
   "metadata": {},
   "source": [
    "```bash\n",
    "python -m pdb debugme.py\n",
    "```"
   ]
  },
  {
   "cell_type": "markdown",
   "metadata": {},
   "source": [
    "Là encore, on regarde le tableau. Pour référence future, tout est dans la doc mais les points importants sont\n",
    "\n",
    "- Les commandes (il suffit de taper la première lettre\n",
    "  - `l[ist]`: affiche les lignes autour de l'instruction courante\n",
    "  - `ll[ist]`: affiche tout la fonction courante\n",
    "  - `n[ext]`: passer à l'instruction suivante dans la fonction en cours\n",
    "  - `s[tep]`: passer à l'instruction suivante y compris dans une autre fonction\n",
    "  - `u[p]`: passer dans le contexte un niveau au dessus (l'instruction qui appelle la fonction courante)\n",
    "  - `d[own]`: l'inverse de `u[p]`\n",
    "- Commencer une ligne par un `!` fait exécuter une instruction, bien pratique pour lire le contenu des variables\n",
    "- Dans n'importe quel progamme, une instruction `breakpoint()` stoppe l'exécution et vous donne une session `pdb`"
   ]
  },
  {
   "cell_type": "markdown",
   "metadata": {},
   "source": [
    "C'est globalement un peu moins sympa qu'un débuggeur graphique, notamment pour voir en direct les états des variables (mais il y a d'autres alternatives en console) mais ça marche vraiment bien."
   ]
  },
  {
   "cell_type": "markdown",
   "metadata": {},
   "source": [
    "## Exercice\n",
    "\n",
    "- Débugger `debugme.py`, envoyez-moi un pull request sur https://github.com/LoicGrobol/python-im-2 !\n",
    "- Passer `black` et `flake8` dans vos projets"
   ]
  }
 ],
 "metadata": {
  "kernelspec": {
   "display_name": "Python 3",
   "language": "python",
   "name": "python3"
  },
  "language_info": {
   "codemirror_mode": {
    "name": "ipython",
    "version": 3
   },
   "file_extension": ".py",
   "mimetype": "text/x-python",
   "name": "python",
   "nbconvert_exporter": "python",
   "pygments_lexer": "ipython3",
   "version": "3.7.3"
  }
 },
 "nbformat": 4,
 "nbformat_minor": 2
}
